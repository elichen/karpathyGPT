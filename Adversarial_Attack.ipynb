{
  "nbformat": 4,
  "nbformat_minor": 0,
  "metadata": {
    "colab": {
      "provenance": [],
      "gpuType": "T4",
      "authorship_tag": "ABX9TyO4EFGIaVmnjRQOSDz10Q+E",
      "include_colab_link": true
    },
    "kernelspec": {
      "name": "python3",
      "display_name": "Python 3"
    },
    "language_info": {
      "name": "python"
    },
    "accelerator": "GPU"
  },
  "cells": [
    {
      "cell_type": "markdown",
      "metadata": {
        "id": "view-in-github",
        "colab_type": "text"
      },
      "source": [
        "<a href=\"https://colab.research.google.com/github/elichen/karpathyGPT/blob/main/Adversarial_Attack.ipynb\" target=\"_parent\"><img src=\"https://colab.research.google.com/assets/colab-badge.svg\" alt=\"Open In Colab\"/></a>"
      ]
    },
    {
      "cell_type": "code",
      "source": [
        "import torch\n",
        "import torch.nn as nn\n",
        "import torch.nn.functional as F\n",
        "import torch.optim as optim\n",
        "import matplotlib.pyplot as plt\n",
        "from IPython.display import display, clear_output\n",
        "import os"
      ],
      "metadata": {
        "id": "8PRgK7oJBixw"
      },
      "execution_count": 57,
      "outputs": []
    },
    {
      "cell_type": "code",
      "source": [
        "block_size = 256\n",
        "n_layer = 4\n",
        "n_head = 4\n",
        "n_embed = 256\n",
        "n_ffwd = n_embed * 4\n",
        "dropout = 0.2\n",
        "device = \"cuda\" if torch.cuda.is_available() else \"cpu\""
      ],
      "metadata": {
        "id": "TZRiWoaFBw0u"
      },
      "execution_count": 2,
      "outputs": []
    },
    {
      "cell_type": "code",
      "source": [
        "![[ -f input.txt ]] || wget -q https://raw.githubusercontent.com/karpathy/char-rnn/master/data/tinyshakespeare/input.txt"
      ],
      "metadata": {
        "id": "MfxbYa68fJSs"
      },
      "execution_count": 3,
      "outputs": []
    },
    {
      "cell_type": "code",
      "source": [
        "text = open(\"input.txt\").read()"
      ],
      "metadata": {
        "id": "d1FT3o-lNuWL"
      },
      "execution_count": 4,
      "outputs": []
    },
    {
      "cell_type": "code",
      "source": [
        "chars = sorted(list(set(text)))\n",
        "vocab_size = len(chars)\n",
        "vocab_size, \"\".join(chars)"
      ],
      "metadata": {
        "colab": {
          "base_uri": "https://localhost:8080/"
        },
        "id": "WEP7iuk3N_7n",
        "outputId": "aa26caca-b69a-4c82-ed87-b41440ee753c"
      },
      "execution_count": 5,
      "outputs": [
        {
          "output_type": "execute_result",
          "data": {
            "text/plain": [
              "(65, \"\\n !$&',-.3:;?ABCDEFGHIJKLMNOPQRSTUVWXYZabcdefghijklmnopqrstuvwxyz\")"
            ]
          },
          "metadata": {},
          "execution_count": 5
        }
      ]
    },
    {
      "cell_type": "code",
      "source": [
        "stoi = {ch:i for i,ch in enumerate(chars)}\n",
        "itos = {i:ch for i,ch in enumerate(chars)}\n",
        "encode = lambda s: [stoi[c] for c in s]\n",
        "decode = lambda l: \"\".join([itos[i] for i in l])"
      ],
      "metadata": {
        "id": "UjUQYp9fOcXe"
      },
      "execution_count": 6,
      "outputs": []
    },
    {
      "cell_type": "code",
      "source": [
        "class AttentionHead(nn.Module):\n",
        "    def __init__(self, head_dim):\n",
        "        super().__init__()\n",
        "        self.query = nn.Linear(n_embed, head_dim)\n",
        "        self.key = nn.Linear(n_embed, head_dim)\n",
        "        self.value = nn.Linear(n_embed, head_dim)\n",
        "        self.register_buffer('tril', torch.tril(torch.ones(block_size, block_size)))\n",
        "        self.dropout = nn.Dropout(dropout)\n",
        "\n",
        "    def forward(self, x):\n",
        "        B,T,C = x.shape\n",
        "        k = self.key(x)\n",
        "        q = self.query(x)\n",
        "        v = self.value(x)\n",
        "\n",
        "        wei = q @ q.transpose(-2, -1) * k.shape[1] ** -0.5\n",
        "        wei = wei.masked_fill(self.tril[:T,:T] == 0, float(\"-inf\"))\n",
        "        wei = F.softmax(wei, dim=-1)\n",
        "        wei = self.dropout(wei)\n",
        "        output = wei @ v\n",
        "        return output"
      ],
      "metadata": {
        "id": "lz8W3qIEuKyD"
      },
      "execution_count": 7,
      "outputs": []
    },
    {
      "cell_type": "code",
      "source": [
        "class MultiHeadAttention(nn.Module):\n",
        "    def __init__(self, num_heads, head_dim):\n",
        "        super().__init__()\n",
        "        self.heads = nn.ModuleList([AttentionHead(head_dim) for _ in range(num_heads)])\n",
        "        self.linear = nn.Linear(num_heads * head_dim, n_embed)\n",
        "        self.dropout = nn.Dropout(dropout)\n",
        "\n",
        "    def forward(self, x):\n",
        "        out = torch.cat([head(x) for head in self.heads], dim=-1)\n",
        "        out = self.linear(out)\n",
        "        out = self.dropout(out)\n",
        "        return out"
      ],
      "metadata": {
        "id": "5nF5fpVKAaoW"
      },
      "execution_count": 8,
      "outputs": []
    },
    {
      "cell_type": "code",
      "source": [
        "class FeedForward(nn.Module):\n",
        "    def __init__(self):\n",
        "        super().__init__()\n",
        "        self.net = nn.Sequential(\n",
        "          nn.Linear(n_embed, n_ffwd),\n",
        "          nn.ReLU(),\n",
        "          nn.Linear(n_ffwd, n_embed),\n",
        "          nn.Dropout(dropout)\n",
        "        )\n",
        "\n",
        "    def forward(self, x):\n",
        "        return self.net(x)"
      ],
      "metadata": {
        "id": "aIWrcFjfDUTX"
      },
      "execution_count": 9,
      "outputs": []
    },
    {
      "cell_type": "code",
      "source": [
        "class Block(nn.Module):\n",
        "    def __init__(self, num_heads):\n",
        "        super().__init__()\n",
        "        self.sa_heads = MultiHeadAttention(num_heads, n_embed//num_heads)\n",
        "        self.ffwd = FeedForward()\n",
        "        self.norm1 = nn.LayerNorm(n_embed)\n",
        "        self.norm2 = nn.LayerNorm(n_embed)\n",
        "\n",
        "    def forward(self, x):\n",
        "        x = x + self.sa_heads(self.norm1(x))\n",
        "        x = x + self.ffwd(self.norm2(x))\n",
        "        return x"
      ],
      "metadata": {
        "id": "kFmLS_FAE1UP"
      },
      "execution_count": 10,
      "outputs": []
    },
    {
      "cell_type": "code",
      "source": [
        "class LanguageModel(nn.Module):\n",
        "    def __init__(self):\n",
        "        super().__init__()\n",
        "        self.token_embeddings = nn.Embedding(vocab_size, n_embed)\n",
        "        self.position_embeddings = nn.Embedding(block_size, n_embed)\n",
        "        self.blocks = nn.Sequential(*[Block(n_head) for _ in range(n_layer)])\n",
        "        self.norm = nn.LayerNorm(n_embed)\n",
        "        self.lm_head = nn.Linear(n_embed, vocab_size)\n",
        "\n",
        "    def forward(self, inputs):\n",
        "        B,T = inputs.shape\n",
        "        tok_emb = self.token_embeddings(inputs)\n",
        "        pos_emb = self.position_embeddings(torch.arange(T, device=device))\n",
        "        x = tok_emb + pos_emb\n",
        "        x = self.blocks(x)\n",
        "        x = self.norm(x)\n",
        "        return self.lm_head(x)\n",
        "\n",
        "    def calculate_loss(self, inputs, targets):\n",
        "        logits = self(inputs)\n",
        "        return F.cross_entropy(logits.view(-1, vocab_size), targets.view(-1))\n",
        "\n",
        "    def generate(self, input_batch, max_new_tokens):\n",
        "        for _ in range(max_new_tokens):\n",
        "            logits = self(input_batch[:,-block_size:])\n",
        "            last_logits = logits[:, -1, :]\n",
        "            probabilities = F.softmax(last_logits, dim=-1)\n",
        "            next_tokens = torch.multinomial(probabilities, 1).squeeze(1)\n",
        "            input_batch = torch.cat((input_batch, next_tokens.unsqueeze(1)), dim=1)\n",
        "        return input_batch"
      ],
      "metadata": {
        "id": "1-CZvBchyPSv"
      },
      "execution_count": 11,
      "outputs": []
    },
    {
      "cell_type": "code",
      "source": [
        "weights_file = 'tinyshakespeare.pt'"
      ],
      "metadata": {
        "id": "x6TpVKwvtAm2"
      },
      "execution_count": 12,
      "outputs": []
    },
    {
      "cell_type": "code",
      "source": [
        "![[ -f {weights_file} ]] || wget -O {weights_file} https://github.com/elichen/karpathyGPT/raw/main/{weights_file}"
      ],
      "metadata": {
        "id": "P_R3OHyng6Lv",
        "colab": {
          "base_uri": "https://localhost:8080/"
        },
        "outputId": "0e7844dc-4cf8-42ae-fd6b-7c45e5f6dda0"
      },
      "execution_count": 13,
      "outputs": [
        {
          "output_type": "stream",
          "name": "stdout",
          "text": [
            "--2024-03-15 02:41:06--  https://github.com/elichen/karpathyGPT/raw/main/tinyshakespeare.pt\n",
            "Resolving github.com (github.com)... 140.82.113.4\n",
            "Connecting to github.com (github.com)|140.82.113.4|:443... connected.\n",
            "HTTP request sent, awaiting response... 302 Found\n",
            "Location: https://raw.githubusercontent.com/elichen/karpathyGPT/main/tinyshakespeare.pt [following]\n",
            "--2024-03-15 02:41:07--  https://raw.githubusercontent.com/elichen/karpathyGPT/main/tinyshakespeare.pt\n",
            "Resolving raw.githubusercontent.com (raw.githubusercontent.com)... 185.199.108.133, 185.199.110.133, 185.199.111.133, ...\n",
            "Connecting to raw.githubusercontent.com (raw.githubusercontent.com)|185.199.108.133|:443... connected.\n",
            "HTTP request sent, awaiting response... 200 OK\n",
            "Length: 17286918 (16M) [application/octet-stream]\n",
            "Saving to: ‘tinyshakespeare.pt’\n",
            "\n",
            "tinyshakespeare.pt  100%[===================>]  16.49M  87.3MB/s    in 0.2s    \n",
            "\n",
            "2024-03-15 02:41:07 (87.3 MB/s) - ‘tinyshakespeare.pt’ saved [17286918/17286918]\n",
            "\n"
          ]
        }
      ]
    },
    {
      "cell_type": "code",
      "source": [
        "model = LanguageModel().to(device)\n",
        "print(sum(p.numel() for p in model.parameters())/1e6, 'M parameters')\n",
        "model.load_state_dict(torch.load(weights_file, map_location=torch.device(device)))"
      ],
      "metadata": {
        "colab": {
          "base_uri": "https://localhost:8080/"
        },
        "id": "luY_79oAoiax",
        "outputId": "6e6e6bbd-0e77-4bf3-d176-97b5b092efe6"
      },
      "execution_count": 14,
      "outputs": [
        {
          "output_type": "stream",
          "name": "stdout",
          "text": [
            "3.258433 M parameters\n"
          ]
        },
        {
          "output_type": "execute_result",
          "data": {
            "text/plain": [
              "<All keys matched successfully>"
            ]
          },
          "metadata": {},
          "execution_count": 14
        }
      ]
    },
    {
      "cell_type": "code",
      "source": [
        "prefix = \"\"\"Lo!\"\"\"\n",
        "context = torch.tensor(encode(prefix), dtype=torch.long).to(device).unsqueeze(0)\n",
        "print(decode(model.generate(context, max_new_tokens=100)[0].tolist()))"
      ],
      "metadata": {
        "colab": {
          "base_uri": "https://localhost:8080/"
        },
        "id": "HPEojOvPlIfD",
        "outputId": "c12b8c49-a198-463a-df9b-f7a419061756"
      },
      "execution_count": 15,
      "outputs": [
        {
          "output_type": "stream",
          "name": "stdout",
          "text": [
            "Lo!\n",
            "Wo, bagemsing Casi, doot unon oful, and to Pata\n",
            "Second LAUENCE:\n",
            "By the fatherimence, foreimaly and \n"
          ]
        }
      ]
    },
    {
      "cell_type": "code",
      "source": [
        "def forward_with_tok_emb(model, tok_emb):\n",
        "    B, T, _ = tok_emb.shape  # Adjust to match the dimensions of tok_emb\n",
        "    pos_emb = model.position_embeddings(torch.arange(T, device=tok_emb.device))\n",
        "    x = tok_emb + pos_emb\n",
        "    x = model.blocks(x)\n",
        "    x = model.norm(x)\n",
        "    return model.lm_head(x)"
      ],
      "metadata": {
        "id": "4cw-p_avwd7o"
      },
      "execution_count": 16,
      "outputs": []
    },
    {
      "cell_type": "code",
      "source": [
        "def update_plot(losses):\n",
        "    clear_output(wait=True)  # Clear the output of the current cell receiving output\n",
        "    plt.figure(figsize=(10, 6))\n",
        "    plt.plot(losses, label='Loss over iterations')\n",
        "    plt.xlabel('Iteration')\n",
        "    plt.ylabel('Loss')\n",
        "    plt.title('Loss Trend Live')\n",
        "    plt.legend()\n",
        "    display(plt.gcf())  # Display the current figure\n",
        "    plt.close()  # Close the figure to prevent it from being displayed again in the notebook\n",
        "\n",
        "def optimize_prefix(model, prompt_tokens, suffix_tokens, num_iterations, top_k, device):\n",
        "    seq = torch.cat((prompt_tokens, suffix_tokens)).to(device)\n",
        "    embed_weights = model.token_embeddings.weight\n",
        "    prefix_length = prompt_tokens.size(0)\n",
        "    suffix_length = suffix_tokens.size(0)\n",
        "    losses = []\n",
        "\n",
        "    for i in range(num_iterations):\n",
        "        one_hot = F.one_hot(seq, num_classes=vocab_size).to(device=device, dtype=embed_weights.dtype)\n",
        "        one_hot.requires_grad_()\n",
        "        input_embeds = (one_hot @ embed_weights).unsqueeze(0)\n",
        "\n",
        "        model.eval()\n",
        "        logits = forward_with_tok_emb(model, input_embeds)\n",
        "\n",
        "        loss = F.cross_entropy(logits[:, -suffix_length:, :].reshape(-1, vocab_size), suffix_tokens)\n",
        "        losses.append(loss.item())\n",
        "        update_plot(losses)\n",
        "\n",
        "        model.zero_grad()\n",
        "        loss.backward()\n",
        "\n",
        "        # replace tokens at each position with a top_k sampled token\n",
        "        grad = one_hot.grad.squeeze(0)\n",
        "        top_indices = (-grad).topk(top_k, dim=1).indices\n",
        "        original_seq = seq.repeat(prefix_length, 1)\n",
        "        new_token_pos = torch.arange(0, prefix_length, 1, device=grad.device).type(torch.int64)\n",
        "        new_token_val = torch.gather(top_indices[new_token_pos], 1, torch.randint(0, top_k, (prefix_length, 1), device=device))\n",
        "        candidate_seqs = original_seq.scatter_(1, new_token_pos.unsqueeze(-1), new_token_val)\n",
        "\n",
        "        model.eval()\n",
        "        candidate_input_embeds = F.one_hot(candidate_seqs, num_classes=vocab_size).to(dtype=embed_weights.dtype) @ embed_weights\n",
        "        candidate_logits = forward_with_tok_emb(model, candidate_input_embeds)\n",
        "\n",
        "        targets = suffix_tokens.repeat(candidate_seqs.size(0), 1)\n",
        "        individual_losses = F.cross_entropy(candidate_logits[:, -suffix_length:, :].transpose(1,2), targets, reduction='none')\n",
        "        individual_losses = individual_losses.mean(dim=-1)\n",
        "\n",
        "        min_loss_idx = torch.argmin(individual_losses)\n",
        "\n",
        "        seq = candidate_seqs[min_loss_idx]\n",
        "\n",
        "    return seq\n",
        "\n",
        "# Set the prompt and suffix\n",
        "prompt = \"!!!!!!!!!!!!!!!\"\n",
        "suffix = \"zen:\"\n",
        "\n",
        "prompt_tokens = encode(prompt)\n",
        "prompt_tokens = torch.tensor(prompt_tokens, device=device)\n",
        "suffix_tokens = encode(suffix)\n",
        "suffix_tokens = torch.tensor(suffix_tokens, device=device)\n",
        "\n",
        "# Set the optimization parameters\n",
        "num_iterations = 100\n",
        "top_k = 5\n",
        "\n",
        "# Optimize the prefix\n",
        "optimized_tokens = optimize_prefix(model, prompt_tokens, suffix_tokens, num_iterations, top_k, device)\n",
        "\n",
        "print(\"Optimized tokens:\", optimized_tokens)\n",
        "print(\"Decoded optimized tokens:\", decode(optimized_tokens.tolist()))\n",
        "\n",
        "print(decode(model.generate(optimized_tokens.unsqueeze(0), max_new_tokens=100)[0].tolist()))"
      ],
      "metadata": {
        "colab": {
          "base_uri": "https://localhost:8080/",
          "height": 707
        },
        "id": "uhWfVR6zXYME",
        "outputId": "f449595c-0910-4f12-f333-f0299c149b1d"
      },
      "execution_count": 59,
      "outputs": [
        {
          "output_type": "display_data",
          "data": {
            "text/plain": [
              "<Figure size 1000x600 with 1 Axes>"
            ],
            "image/png": "[encoded data removed]"
          },
          "metadata": {}
        },
        {
          "output_type": "stream",
          "name": "stdout",
          "text": [
            "Optimized tokens: tensor([17, 38,  6, 11,  8, 11,  6,  6,  6,  6, 64,  5, 15, 23,  7, 64, 43, 52,\n",
            "        10])\n",
            "Decoded optimized tokens: EZ,;.;,,,,z'CK-zen:\n",
            "EZ,;.;,,,,z'CK-zen:\n",
            "Ho, broke from do shouldoker, fith the ality.\n",
            "\n",
            "KING EDWARD IV:\n",
            "Be what sick such I had cause but co\n"
          ]
        }
      ]
    }
  ]
}