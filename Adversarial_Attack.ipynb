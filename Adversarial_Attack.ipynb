{
  "nbformat": 4,
  "nbformat_minor": 0,
  "metadata": {
    "colab": {
      "provenance": [],
      "gpuType": "T4",
      "authorship_tag": "ABX9TyNm8vIcuVESCFw3fhD55xIQ",
      "include_colab_link": true
    },
    "kernelspec": {
      "name": "python3",
      "display_name": "Python 3"
    },
    "language_info": {
      "name": "python"
    },
    "accelerator": "GPU"
  },
  "cells": [
    {
      "cell_type": "markdown",
      "metadata": {
        "id": "view-in-github",
        "colab_type": "text"
      },
      "source": [
        "<a href=\"https://colab.research.google.com/github/elichen/karpathyGPT/blob/main/Adversarial_Attack.ipynb\" target=\"_parent\"><img src=\"https://colab.research.google.com/assets/colab-badge.svg\" alt=\"Open In Colab\"/></a>"
      ]
    },
    {
      "cell_type": "code",
      "source": [
        "import torch\n",
        "import torch.nn as nn\n",
        "import torch.nn.functional as F\n",
        "import torch.optim as optim\n",
        "import os"
      ],
      "metadata": {
        "id": "8PRgK7oJBixw"
      },
      "execution_count": 1,
      "outputs": []
    },
    {
      "cell_type": "code",
      "source": [
        "block_size = 256\n",
        "n_layer = 4\n",
        "n_head = 4\n",
        "n_embed = 256\n",
        "n_ffwd = n_embed * 4\n",
        "dropout = 0.2\n",
        "device = \"cuda\" if torch.cuda.is_available() else \"cpu\""
      ],
      "metadata": {
        "id": "TZRiWoaFBw0u"
      },
      "execution_count": 2,
      "outputs": []
    },
    {
      "cell_type": "code",
      "source": [
        "![[ -f input.txt ]] || wget -q https://raw.githubusercontent.com/karpathy/char-rnn/master/data/tinyshakespeare/input.txt"
      ],
      "metadata": {
        "id": "MfxbYa68fJSs"
      },
      "execution_count": 3,
      "outputs": []
    },
    {
      "cell_type": "code",
      "source": [
        "text = open(\"input.txt\").read()"
      ],
      "metadata": {
        "id": "d1FT3o-lNuWL"
      },
      "execution_count": 4,
      "outputs": []
    },
    {
      "cell_type": "code",
      "source": [
        "chars = sorted(list(set(text)))\n",
        "vocab_size = len(chars)\n",
        "vocab_size, \"\".join(chars)"
      ],
      "metadata": {
        "colab": {
          "base_uri": "https://localhost:8080/"
        },
        "id": "WEP7iuk3N_7n",
        "outputId": "b08b3e81-e70f-48bc-a19b-b660f4a587da"
      },
      "execution_count": 5,
      "outputs": [
        {
          "output_type": "execute_result",
          "data": {
            "text/plain": [
              "(65, \"\\n !$&',-.3:;?ABCDEFGHIJKLMNOPQRSTUVWXYZabcdefghijklmnopqrstuvwxyz\")"
            ]
          },
          "metadata": {},
          "execution_count": 5
        }
      ]
    },
    {
      "cell_type": "code",
      "source": [
        "stoi = {ch:i for i,ch in enumerate(chars)}\n",
        "itos = {i:ch for i,ch in enumerate(chars)}\n",
        "encode = lambda s: [stoi[c] for c in s]\n",
        "decode = lambda l: \"\".join([itos[i] for i in l])"
      ],
      "metadata": {
        "id": "UjUQYp9fOcXe"
      },
      "execution_count": 6,
      "outputs": []
    },
    {
      "cell_type": "code",
      "source": [
        "class AttentionHead(nn.Module):\n",
        "    def __init__(self, head_dim):\n",
        "        super().__init__()\n",
        "        self.query = nn.Linear(n_embed, head_dim)\n",
        "        self.key = nn.Linear(n_embed, head_dim)\n",
        "        self.value = nn.Linear(n_embed, head_dim)\n",
        "        self.register_buffer('tril', torch.tril(torch.ones(block_size, block_size)))\n",
        "        self.dropout = nn.Dropout(dropout)\n",
        "\n",
        "    def forward(self, x):\n",
        "        B,T,C = x.shape\n",
        "        k = self.key(x)\n",
        "        q = self.query(x)\n",
        "        v = self.value(x)\n",
        "\n",
        "        wei = q @ q.transpose(-2, -1) * k.shape[1] ** -0.5\n",
        "        wei = wei.masked_fill(self.tril[:T,:T] == 0, float(\"-inf\"))\n",
        "        wei = F.softmax(wei, dim=-1)\n",
        "        wei = self.dropout(wei)\n",
        "        output = wei @ v\n",
        "        return output"
      ],
      "metadata": {
        "id": "lz8W3qIEuKyD"
      },
      "execution_count": 7,
      "outputs": []
    },
    {
      "cell_type": "code",
      "source": [
        "class MultiHeadAttention(nn.Module):\n",
        "    def __init__(self, num_heads, head_dim):\n",
        "        super().__init__()\n",
        "        self.heads = nn.ModuleList([AttentionHead(head_dim) for _ in range(num_heads)])\n",
        "        self.linear = nn.Linear(num_heads * head_dim, n_embed)\n",
        "        self.dropout = nn.Dropout(dropout)\n",
        "\n",
        "    def forward(self, x):\n",
        "        out = torch.cat([head(x) for head in self.heads], dim=-1)\n",
        "        out = self.linear(out)\n",
        "        out = self.dropout(out)\n",
        "        return out"
      ],
      "metadata": {
        "id": "5nF5fpVKAaoW"
      },
      "execution_count": 8,
      "outputs": []
    },
    {
      "cell_type": "code",
      "source": [
        "class FeedForward(nn.Module):\n",
        "    def __init__(self):\n",
        "        super().__init__()\n",
        "        self.net = nn.Sequential(\n",
        "          nn.Linear(n_embed, n_ffwd),\n",
        "          nn.ReLU(),\n",
        "          nn.Linear(n_ffwd, n_embed),\n",
        "          nn.Dropout(dropout)\n",
        "        )\n",
        "\n",
        "    def forward(self, x):\n",
        "        return self.net(x)"
      ],
      "metadata": {
        "id": "aIWrcFjfDUTX"
      },
      "execution_count": 9,
      "outputs": []
    },
    {
      "cell_type": "code",
      "source": [
        "class Block(nn.Module):\n",
        "    def __init__(self, num_heads):\n",
        "        super().__init__()\n",
        "        self.sa_heads = MultiHeadAttention(num_heads, n_embed//num_heads)\n",
        "        self.ffwd = FeedForward()\n",
        "        self.norm1 = nn.LayerNorm(n_embed)\n",
        "        self.norm2 = nn.LayerNorm(n_embed)\n",
        "\n",
        "    def forward(self, x):\n",
        "        x = x + self.sa_heads(self.norm1(x))\n",
        "        x = x + self.ffwd(self.norm2(x))\n",
        "        return x"
      ],
      "metadata": {
        "id": "kFmLS_FAE1UP"
      },
      "execution_count": 10,
      "outputs": []
    },
    {
      "cell_type": "code",
      "source": [
        "class LanguageModel(nn.Module):\n",
        "    def __init__(self):\n",
        "        super().__init__()\n",
        "        self.token_embeddings = nn.Embedding(vocab_size, n_embed)\n",
        "        self.position_embeddings = nn.Embedding(block_size, n_embed)\n",
        "        self.blocks = nn.Sequential(*[Block(n_head) for _ in range(n_layer)])\n",
        "        self.norm = nn.LayerNorm(n_embed)\n",
        "        self.lm_head = nn.Linear(n_embed, vocab_size)\n",
        "\n",
        "    def forward(self, inputs):\n",
        "        B,T = inputs.shape\n",
        "        tok_emb = self.token_embeddings(inputs)\n",
        "        pos_emb = self.position_embeddings(torch.arange(T, device=device))\n",
        "        x = tok_emb + pos_emb\n",
        "        x = self.blocks(x)\n",
        "        x = self.norm(x)\n",
        "        return self.lm_head(x)\n",
        "\n",
        "    def calculate_loss(self, inputs, targets):\n",
        "        logits = self(inputs)\n",
        "        return F.cross_entropy(logits.view(-1, vocab_size), targets.view(-1))\n",
        "\n",
        "    def generate(self, input_batch, max_new_tokens):\n",
        "        for _ in range(max_new_tokens):\n",
        "            logits = self(input_batch[:,-block_size:])\n",
        "            last_logits = logits[:, -1, :]\n",
        "            probabilities = F.softmax(last_logits, dim=-1)\n",
        "            next_tokens = torch.multinomial(probabilities, 1).squeeze(1)\n",
        "            input_batch = torch.cat((input_batch, next_tokens.unsqueeze(1)), dim=1)\n",
        "        return input_batch"
      ],
      "metadata": {
        "id": "1-CZvBchyPSv"
      },
      "execution_count": 11,
      "outputs": []
    },
    {
      "cell_type": "code",
      "source": [
        "weights_file = 'tinyshakespeare.pt'"
      ],
      "metadata": {
        "id": "x6TpVKwvtAm2"
      },
      "execution_count": 12,
      "outputs": []
    },
    {
      "cell_type": "code",
      "source": [
        "![[ -f {weights_file} ]] || wget -O {weights_file} https://github.com/elichen/karpathyGPT/raw/main/{weights_file}"
      ],
      "metadata": {
        "id": "P_R3OHyng6Lv",
        "colab": {
          "base_uri": "https://localhost:8080/"
        },
        "outputId": "cba10f24-fa77-47be-e1b7-612359768aa9"
      },
      "execution_count": 13,
      "outputs": [
        {
          "output_type": "stream",
          "name": "stdout",
          "text": [
            "--2024-02-24 19:25:02--  https://github.com/elichen/karpathyGPT/raw/main/tinyshakespeare.pt\n",
            "Resolving github.com (github.com)... 140.82.112.4\n",
            "Connecting to github.com (github.com)|140.82.112.4|:443... connected.\n",
            "HTTP request sent, awaiting response... 302 Found\n",
            "Location: https://raw.githubusercontent.com/elichen/karpathyGPT/main/tinyshakespeare.pt [following]\n",
            "--2024-02-24 19:25:03--  https://raw.githubusercontent.com/elichen/karpathyGPT/main/tinyshakespeare.pt\n",
            "Resolving raw.githubusercontent.com (raw.githubusercontent.com)... 185.199.110.133, 185.199.111.133, 185.199.109.133, ...\n",
            "Connecting to raw.githubusercontent.com (raw.githubusercontent.com)|185.199.110.133|:443... connected.\n",
            "HTTP request sent, awaiting response... 200 OK\n",
            "Length: 17286918 (16M) [application/octet-stream]\n",
            "Saving to: ‘tinyshakespeare.pt’\n",
            "\n",
            "tinyshakespeare.pt  100%[===================>]  16.49M  84.5MB/s    in 0.2s    \n",
            "\n",
            "2024-02-24 19:25:04 (84.5 MB/s) - ‘tinyshakespeare.pt’ saved [17286918/17286918]\n",
            "\n"
          ]
        }
      ]
    },
    {
      "cell_type": "code",
      "source": [
        "model = LanguageModel().to(device)\n",
        "print(sum(p.numel() for p in model.parameters())/1e6, 'M parameters')\n",
        "model.load_state_dict(torch.load(weights_file, map_location=torch.device(device)))"
      ],
      "metadata": {
        "colab": {
          "base_uri": "https://localhost:8080/"
        },
        "id": "luY_79oAoiax",
        "outputId": "6f359ed7-f551-4eef-e7ad-861d84d669e9"
      },
      "execution_count": 14,
      "outputs": [
        {
          "output_type": "stream",
          "name": "stdout",
          "text": [
            "3.258433 M parameters\n"
          ]
        },
        {
          "output_type": "execute_result",
          "data": {
            "text/plain": [
              "<All keys matched successfully>"
            ]
          },
          "metadata": {},
          "execution_count": 14
        }
      ]
    },
    {
      "cell_type": "code",
      "source": [
        "prefix = \"First Citizen:\"\n",
        "context = torch.tensor(encode(prefix), dtype=torch.long).to(device).unsqueeze(0)\n",
        "print(decode(model.generate(context, max_new_tokens=100)[0].tolist()))"
      ],
      "metadata": {
        "colab": {
          "base_uri": "https://localhost:8080/"
        },
        "id": "HPEojOvPlIfD",
        "outputId": "a74ace44-4fb1-484a-8650-69c9d87fcae9"
      },
      "execution_count": 74,
      "outputs": [
        {
          "output_type": "stream",
          "name": "stdout",
          "text": [
            "First Citizen: imany; lok na isuslanes\n",
            "Of:\n",
            "Hof say more of my captoly, away as eye have, we I tell sy.\n",
            "By, tull th\n"
          ]
        }
      ]
    },
    {
      "cell_type": "code",
      "source": [
        "plotlosses = PlotLosses()\n",
        "\n",
        "not_allowed_tokens = None if allow_non_ascii else get_nonascii_toks(tokenizer)\n",
        "adv_suffix = adv_string_init\n",
        "\n",
        "for i in range(num_steps):\n",
        "\n",
        "    # Step 1. Encode user prompt (behavior + adv suffix) as tokens and return token ids.\n",
        "    input_ids = suffix_manager.get_input_ids(adv_string=adv_suffix)\n",
        "    input_ids = input_ids.to(device)\n",
        "\n",
        "    # Step 2. Compute Coordinate Gradient\n",
        "    coordinate_grad = token_gradients(model,\n",
        "                    input_ids,\n",
        "                    suffix_manager._control_slice,\n",
        "                    suffix_manager._target_slice,\n",
        "                    suffix_manager._loss_slice)\n",
        "\n",
        "    # Step 3. Sample a batch of new tokens based on the coordinate gradient.\n",
        "    # Notice that we only need the one that minimizes the loss.\n",
        "    with torch.no_grad():\n",
        "\n",
        "        # Step 3.1 Slice the input to locate the adversarial suffix.\n",
        "        adv_suffix_tokens = input_ids[suffix_manager._control_slice].to(device)\n",
        "\n",
        "        # Step 3.2 Randomly sample a batch of replacements.\n",
        "        new_adv_suffix_toks = sample_control(adv_suffix_tokens,\n",
        "                       coordinate_grad,\n",
        "                       batch_size,\n",
        "                       topk=topk,\n",
        "                       temp=1,\n",
        "                       not_allowed_tokens=not_allowed_tokens)\n",
        "\n",
        "        # Step 3.3 This step ensures all adversarial candidates have the same number of tokens.\n",
        "        # This step is necessary because tokenizers are not invertible\n",
        "        # so Encode(Decode(tokens)) may produce a different tokenization.\n",
        "        # We ensure the number of token remains to prevent the memory keeps growing and run into OOM.\n",
        "        new_adv_suffix = get_filtered_cands(tokenizer,\n",
        "                                            new_adv_suffix_toks,\n",
        "                                            filter_cand=True,\n",
        "                                            curr_control=adv_suffix)\n",
        "\n",
        "        # Step 3.4 Compute loss on these candidates and take the argmin.\n",
        "        logits, ids = get_logits(model=model,\n",
        "                                 tokenizer=tokenizer,\n",
        "                                 input_ids=input_ids,\n",
        "                                 control_slice=suffix_manager._control_slice,\n",
        "                                 test_controls=new_adv_suffix,\n",
        "                                 return_ids=True)\n",
        "\n",
        "        losses = target_loss(logits, ids, suffix_manager._target_slice)\n",
        "\n",
        "        best_new_adv_suffix_id = losses.argmin()\n",
        "        best_new_adv_suffix = new_adv_suffix[best_new_adv_suffix_id]\n",
        "\n",
        "        current_loss = losses[best_new_adv_suffix_id]\n",
        "\n",
        "        # Update the running adv_suffix with the best candidate\n",
        "        adv_suffix = best_new_adv_suffix\n",
        "        is_success = check_for_attack_success(model,\n",
        "                                 tokenizer,\n",
        "                                 suffix_manager.get_input_ids(adv_string=adv_suffix).to(device),\n",
        "                                 suffix_manager._assistant_role_slice,\n",
        "                                 test_prefixes)\n",
        "\n",
        "\n",
        "    # Create a dynamic plot for the loss.\n",
        "    plotlosses.update({'Loss': current_loss.detach().cpu().numpy()})\n",
        "    plotlosses.send()\n",
        "\n",
        "    print(f\"\\nPassed:{is_success}\\nCurrent Suffix:{best_new_adv_suffix}\", end='\\r')\n",
        "\n",
        "    # Notice that for the purpose of demo we stop immediately if we pass the checker but you are free to\n",
        "    # comment this to keep the optimization running for longer (to get a lower loss).\n",
        "    if is_success:\n",
        "        break\n",
        "\n",
        "    # (Optional) Clean up the cache.\n",
        "    del coordinate_grad, adv_suffix_tokens ; gc.collect()\n",
        "    torch.cuda.empty_cache()"
      ],
      "metadata": {
        "id": "Q8IKXRcWFTxo"
      },
      "execution_count": 78,
      "outputs": []
    },
    {
      "cell_type": "code",
      "source": [],
      "metadata": {
        "id": "od1J1Y11qlxR"
      },
      "execution_count": null,
      "outputs": []
    }
  ]
}