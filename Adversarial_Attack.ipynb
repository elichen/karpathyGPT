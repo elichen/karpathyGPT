{
  "nbformat": 4,
  "nbformat_minor": 0,
  "metadata": {
    "colab": {
      "provenance": [],
      "gpuType": "T4",
      "authorship_tag": "ABX9TyN2JkyMSkJfi1uxjObqdn9d",
      "include_colab_link": true
    },
    "kernelspec": {
      "name": "python3",
      "display_name": "Python 3"
    },
    "language_info": {
      "name": "python"
    },
    "accelerator": "GPU"
  },
  "cells": [
    {
      "cell_type": "markdown",
      "metadata": {
        "id": "view-in-github",
        "colab_type": "text"
      },
      "source": [
        "<a href=\"https://colab.research.google.com/github/elichen/karpathyGPT/blob/main/Adversarial_Attack.ipynb\" target=\"_parent\"><img src=\"https://colab.research.google.com/assets/colab-badge.svg\" alt=\"Open In Colab\"/></a>"
      ]
    },
    {
      "cell_type": "code",
      "source": [
        "import torch\n",
        "import torch.nn as nn\n",
        "import torch.nn.functional as F\n",
        "import torch.optim as optim\n",
        "import matplotlib.pyplot as plt\n",
        "from IPython.display import display, clear_output\n",
        "import os"
      ],
      "metadata": {
        "id": "8PRgK7oJBixw"
      },
      "execution_count": null,
      "outputs": []
    },
    {
      "cell_type": "code",
      "source": [
        "block_size = 256\n",
        "n_layer = 4\n",
        "n_head = 4\n",
        "n_embed = 256\n",
        "n_ffwd = n_embed * 4\n",
        "dropout = 0.2\n",
        "device = \"cuda\" if torch.cuda.is_available() else \"cpu\""
      ],
      "metadata": {
        "id": "TZRiWoaFBw0u"
      },
      "execution_count": null,
      "outputs": []
    },
    {
      "cell_type": "code",
      "source": [
        "![[ -f input.txt ]] || wget -q https://raw.githubusercontent.com/karpathy/char-rnn/master/data/tinyshakespeare/input.txt"
      ],
      "metadata": {
        "id": "MfxbYa68fJSs"
      },
      "execution_count": null,
      "outputs": []
    },
    {
      "cell_type": "code",
      "source": [
        "text = open(\"input.txt\").read()"
      ],
      "metadata": {
        "id": "d1FT3o-lNuWL"
      },
      "execution_count": null,
      "outputs": []
    },
    {
      "cell_type": "code",
      "source": [
        "text[:block_size]"
      ],
      "metadata": {
        "colab": {
          "base_uri": "https://localhost:8080/",
          "height": 53
        },
        "id": "yByDzRkMBju8",
        "outputId": "54a56da0-8647-4075-d1e0-1108fa56b9a5"
      },
      "execution_count": null,
      "outputs": [
        {
          "output_type": "execute_result",
          "data": {
            "text/plain": [
              "'First Citizen:\\nBefore we proceed any further, hear me speak.\\n\\nAll:\\nSpeak, speak.\\n\\nFirst Citizen:\\nYou are all resolved rather to die than to famish?\\n\\nAll:\\nResolved. resolved.\\n\\nFirst Citizen:\\nFirst, you know Caius Marcius is chief enemy to the people.\\n\\nAll:\\n'"
            ],
            "application/vnd.google.colaboratory.intrinsic+json": {
              "type": "string"
            }
          },
          "metadata": {},
          "execution_count": 23
        }
      ]
    },
    {
      "cell_type": "code",
      "source": [
        "chars = sorted(list(set(text)))\n",
        "vocab_size = len(chars)\n",
        "vocab_size, \"\".join(chars)"
      ],
      "metadata": {
        "colab": {
          "base_uri": "https://localhost:8080/"
        },
        "id": "WEP7iuk3N_7n",
        "outputId": "05bbb5c2-28d2-43e6-c93c-d815463688b4"
      },
      "execution_count": null,
      "outputs": [
        {
          "output_type": "execute_result",
          "data": {
            "text/plain": [
              "(65, \"\\n !$&',-.3:;?ABCDEFGHIJKLMNOPQRSTUVWXYZabcdefghijklmnopqrstuvwxyz\")"
            ]
          },
          "metadata": {},
          "execution_count": 6
        }
      ]
    },
    {
      "cell_type": "code",
      "source": [
        "stoi = {ch:i for i,ch in enumerate(chars)}\n",
        "itos = {i:ch for i,ch in enumerate(chars)}\n",
        "encode = lambda s: [stoi[c] for c in s]\n",
        "decode = lambda l: \"\".join([itos[i] for i in l])"
      ],
      "metadata": {
        "id": "UjUQYp9fOcXe"
      },
      "execution_count": null,
      "outputs": []
    },
    {
      "cell_type": "code",
      "source": [
        "class AttentionHead(nn.Module):\n",
        "    def __init__(self, head_dim):\n",
        "        super().__init__()\n",
        "        self.query = nn.Linear(n_embed, head_dim)\n",
        "        self.key = nn.Linear(n_embed, head_dim)\n",
        "        self.value = nn.Linear(n_embed, head_dim)\n",
        "        self.register_buffer('tril', torch.tril(torch.ones(block_size, block_size)))\n",
        "        self.dropout = nn.Dropout(dropout)\n",
        "\n",
        "    def forward(self, x):\n",
        "        B,T,C = x.shape\n",
        "        k = self.key(x)\n",
        "        q = self.query(x)\n",
        "        v = self.value(x)\n",
        "\n",
        "        wei = q @ q.transpose(-2, -1) * k.shape[1] ** -0.5\n",
        "        wei = wei.masked_fill(self.tril[:T,:T] == 0, float(\"-inf\"))\n",
        "        wei = F.softmax(wei, dim=-1)\n",
        "        wei = self.dropout(wei)\n",
        "        output = wei @ v\n",
        "        return output"
      ],
      "metadata": {
        "id": "lz8W3qIEuKyD"
      },
      "execution_count": null,
      "outputs": []
    },
    {
      "cell_type": "code",
      "source": [
        "class MultiHeadAttention(nn.Module):\n",
        "    def __init__(self, num_heads, head_dim):\n",
        "        super().__init__()\n",
        "        self.heads = nn.ModuleList([AttentionHead(head_dim) for _ in range(num_heads)])\n",
        "        self.linear = nn.Linear(num_heads * head_dim, n_embed)\n",
        "        self.dropout = nn.Dropout(dropout)\n",
        "\n",
        "    def forward(self, x):\n",
        "        out = torch.cat([head(x) for head in self.heads], dim=-1)\n",
        "        out = self.linear(out)\n",
        "        out = self.dropout(out)\n",
        "        return out"
      ],
      "metadata": {
        "id": "5nF5fpVKAaoW"
      },
      "execution_count": null,
      "outputs": []
    },
    {
      "cell_type": "code",
      "source": [
        "class FeedForward(nn.Module):\n",
        "    def __init__(self):\n",
        "        super().__init__()\n",
        "        self.net = nn.Sequential(\n",
        "          nn.Linear(n_embed, n_ffwd),\n",
        "          nn.ReLU(),\n",
        "          nn.Linear(n_ffwd, n_embed),\n",
        "          nn.Dropout(dropout)\n",
        "        )\n",
        "\n",
        "    def forward(self, x):\n",
        "        return self.net(x)"
      ],
      "metadata": {
        "id": "aIWrcFjfDUTX"
      },
      "execution_count": null,
      "outputs": []
    },
    {
      "cell_type": "code",
      "source": [
        "class Block(nn.Module):\n",
        "    def __init__(self, num_heads):\n",
        "        super().__init__()\n",
        "        self.sa_heads = MultiHeadAttention(num_heads, n_embed//num_heads)\n",
        "        self.ffwd = FeedForward()\n",
        "        self.norm1 = nn.LayerNorm(n_embed)\n",
        "        self.norm2 = nn.LayerNorm(n_embed)\n",
        "\n",
        "    def forward(self, x):\n",
        "        x = x + self.sa_heads(self.norm1(x))\n",
        "        x = x + self.ffwd(self.norm2(x))\n",
        "        return x"
      ],
      "metadata": {
        "id": "kFmLS_FAE1UP"
      },
      "execution_count": null,
      "outputs": []
    },
    {
      "cell_type": "code",
      "source": [
        "class LanguageModel(nn.Module):\n",
        "    def __init__(self):\n",
        "        super().__init__()\n",
        "        self.token_embeddings = nn.Embedding(vocab_size, n_embed)\n",
        "        self.position_embeddings = nn.Embedding(block_size, n_embed)\n",
        "        self.blocks = nn.Sequential(*[Block(n_head) for _ in range(n_layer)])\n",
        "        self.norm = nn.LayerNorm(n_embed)\n",
        "        self.lm_head = nn.Linear(n_embed, vocab_size)\n",
        "\n",
        "    def forward(self, inputs):\n",
        "        B,T = inputs.shape\n",
        "        tok_emb = self.token_embeddings(inputs)\n",
        "        pos_emb = self.position_embeddings(torch.arange(T, device=device))\n",
        "        x = tok_emb + pos_emb\n",
        "        x = self.blocks(x)\n",
        "        x = self.norm(x)\n",
        "        return self.lm_head(x)\n",
        "\n",
        "    def calculate_loss(self, inputs, targets):\n",
        "        logits = self(inputs)\n",
        "        return F.cross_entropy(logits.view(-1, vocab_size), targets.view(-1))\n",
        "\n",
        "    def generate(self, input_batch, max_new_tokens):\n",
        "        for _ in range(max_new_tokens):\n",
        "            logits = self(input_batch[:,-block_size:])\n",
        "            last_logits = logits[:, -1, :]\n",
        "            probabilities = F.softmax(last_logits, dim=-1)\n",
        "            next_tokens = torch.multinomial(probabilities, 1).squeeze(1)\n",
        "            input_batch = torch.cat((input_batch, next_tokens.unsqueeze(1)), dim=1)\n",
        "        return input_batch"
      ],
      "metadata": {
        "id": "1-CZvBchyPSv"
      },
      "execution_count": null,
      "outputs": []
    },
    {
      "cell_type": "code",
      "source": [
        "weights_file = 'tinyshakespeare.pt'"
      ],
      "metadata": {
        "id": "x6TpVKwvtAm2"
      },
      "execution_count": null,
      "outputs": []
    },
    {
      "cell_type": "code",
      "source": [
        "![[ -f {weights_file} ]] || wget -O {weights_file} https://github.com/elichen/karpathyGPT/raw/main/{weights_file}"
      ],
      "metadata": {
        "id": "P_R3OHyng6Lv",
        "colab": {
          "base_uri": "https://localhost:8080/"
        },
        "outputId": "5fd36101-c507-4180-c124-c842be33aea1"
      },
      "execution_count": null,
      "outputs": [
        {
          "output_type": "stream",
          "name": "stdout",
          "text": [
            "--2024-03-23 22:02:50--  https://github.com/elichen/karpathyGPT/raw/main/tinyshakespeare.pt\n",
            "Resolving github.com (github.com)... 140.82.112.3\n",
            "Connecting to github.com (github.com)|140.82.112.3|:443... connected.\n",
            "HTTP request sent, awaiting response... 302 Found\n",
            "Location: https://raw.githubusercontent.com/elichen/karpathyGPT/main/tinyshakespeare.pt [following]\n",
            "--2024-03-23 22:02:50--  https://raw.githubusercontent.com/elichen/karpathyGPT/main/tinyshakespeare.pt\n",
            "Resolving raw.githubusercontent.com (raw.githubusercontent.com)... 185.199.108.133, 185.199.109.133, 185.199.110.133, ...\n",
            "Connecting to raw.githubusercontent.com (raw.githubusercontent.com)|185.199.108.133|:443... connected.\n",
            "HTTP request sent, awaiting response... 200 OK\n",
            "Length: 17286918 (16M) [application/octet-stream]\n",
            "Saving to: ‘tinyshakespeare.pt’\n",
            "\n",
            "tinyshakespeare.pt  100%[===================>]  16.49M  58.6MB/s    in 0.3s    \n",
            "\n",
            "2024-03-23 22:02:51 (58.6 MB/s) - ‘tinyshakespeare.pt’ saved [17286918/17286918]\n",
            "\n"
          ]
        }
      ]
    },
    {
      "cell_type": "code",
      "source": [
        "model = LanguageModel().to(device)\n",
        "print(sum(p.numel() for p in model.parameters())/1e6, 'M parameters')\n",
        "model.load_state_dict(torch.load(weights_file, map_location=torch.device(device)))"
      ],
      "metadata": {
        "colab": {
          "base_uri": "https://localhost:8080/"
        },
        "id": "luY_79oAoiax",
        "outputId": "f1c0c3d0-4559-471f-fe31-4a232a188cc5"
      },
      "execution_count": null,
      "outputs": [
        {
          "output_type": "stream",
          "name": "stdout",
          "text": [
            "3.258433 M parameters\n"
          ]
        },
        {
          "output_type": "execute_result",
          "data": {
            "text/plain": [
              "<All keys matched successfully>"
            ]
          },
          "metadata": {},
          "execution_count": 15
        }
      ]
    },
    {
      "cell_type": "code",
      "source": [
        "prefix = \"\"\"Lo!\"\"\"\n",
        "context = torch.tensor(encode(prefix), dtype=torch.long).to(device).unsqueeze(0)\n",
        "print(decode(model.generate(context, max_new_tokens=100)[0].tolist()))"
      ],
      "metadata": {
        "colab": {
          "base_uri": "https://localhost:8080/"
        },
        "id": "HPEojOvPlIfD",
        "outputId": "8ca85b0d-1083-4531-9d55-978ed7b5c0c3"
      },
      "execution_count": null,
      "outputs": [
        {
          "output_type": "stream",
          "name": "stdout",
          "text": [
            "Lo! buteteteners hen's to,\n",
            "And fold in the marmy famer have present lose forwalk, sent\n",
            "From,\n",
            "Best drown\n"
          ]
        }
      ]
    },
    {
      "cell_type": "code",
      "source": [
        "def forward_with_tok_emb(model, tok_emb):\n",
        "    B, T, _ = tok_emb.shape  # Adjust to match the dimensions of tok_emb\n",
        "    pos_emb = model.position_embeddings(torch.arange(T, device=tok_emb.device))\n",
        "    x = tok_emb + pos_emb\n",
        "    x = model.blocks(x)\n",
        "    x = model.norm(x)\n",
        "    return model.lm_head(x)"
      ],
      "metadata": {
        "id": "4cw-p_avwd7o"
      },
      "execution_count": null,
      "outputs": []
    },
    {
      "cell_type": "code",
      "source": [
        "def update_plot(losses):\n",
        "    clear_output(wait=True)  # Clear the output of the current cell receiving output\n",
        "    plt.figure(figsize=(10, 6))\n",
        "    plt.plot(losses, label='Loss over iterations')\n",
        "    plt.xlabel('Iteration')\n",
        "    plt.ylabel('Loss')\n",
        "    plt.title('Loss Trend Live')\n",
        "    plt.legend()\n",
        "    display(plt.gcf())  # Display the current figure\n",
        "    plt.close()  # Close the figure to prevent it from being displayed again in the notebook\n",
        "\n",
        "def optimize_prefix(model, prefix_tokens, control_tokens, suffix_tokens, num_iterations, top_k, batch_size, device):\n",
        "    seq = torch.cat((prefix_tokens, control_tokens, suffix_tokens[:-1])).to(device)\n",
        "    embed_weights = model.token_embeddings.weight\n",
        "    prefix_length = prefix_tokens.size(0)\n",
        "    control_length = control_tokens.size(0)\n",
        "    suffix_length = suffix_tokens.size(0)\n",
        "    losses = []\n",
        "\n",
        "    model.eval()\n",
        "    for i in range(num_iterations):\n",
        "        one_hot = F.one_hot(seq, num_classes=vocab_size).to(device=device, dtype=embed_weights.dtype)\n",
        "        one_hot.requires_grad_()\n",
        "        input_embeds = (one_hot @ embed_weights).unsqueeze(0)\n",
        "        logits = forward_with_tok_emb(model, input_embeds)\n",
        "\n",
        "        loss = F.cross_entropy(logits[:, -suffix_length:, :].squeeze(), suffix_tokens)\n",
        "        losses.append(loss.item())\n",
        "        update_plot(losses)\n",
        "\n",
        "        model.zero_grad()\n",
        "        loss.backward()\n",
        "\n",
        "        # import pdb;pdb.set_trace()\n",
        "        top_indices = (-one_hot.grad).topk(top_k, dim=1).indices\n",
        "        original_seq = seq.repeat(batch_size, 1)\n",
        "        new_token_pos = torch.arange(prefix_length, prefix_length+control_length, control_length/batch_size, device=device).type(torch.int64)\n",
        "        new_token_val = torch.gather(top_indices[new_token_pos], 1, torch.randint(0, top_k, (batch_size, 1), device=device))\n",
        "        candidate_seqs = original_seq.scatter_(1, new_token_pos.unsqueeze(-1), new_token_val)\n",
        "\n",
        "        candidate_input_embeds = F.one_hot(candidate_seqs, num_classes=vocab_size).to(dtype=embed_weights.dtype) @ embed_weights\n",
        "        candidate_logits = forward_with_tok_emb(model, candidate_input_embeds)\n",
        "\n",
        "        targets = suffix_tokens.repeat(candidate_seqs.size(0), 1)\n",
        "        individual_losses = F.cross_entropy(candidate_logits[:, -suffix_length:, :].transpose(1,2), targets, reduction='none')\n",
        "        individual_losses = individual_losses.mean(dim=-1)\n",
        "\n",
        "        min_loss_idx = torch.argmin(individual_losses)\n",
        "\n",
        "        seq = candidate_seqs[min_loss_idx]\n",
        "\n",
        "    return seq\n",
        "\n",
        "prefix = \"First Citizen:\\nBefore we proceed any further, hear me speak.\\n\\nAll:\\nSpeak, speak.\\n\\nFirst Citizen:\\nYou are all resolved rather to die than to famish?\\n\\nAll:\\nResolved. resolved.\\n\\nF\"\n",
        "control = \"!!!\"\n",
        "suffix = \"t Citizen:\\nFirst, you know Caius Marcius is chief enemy to the people.\\n\\nAll:\\n\"\n",
        "\n",
        "prefix_tokens = encode(prefix)\n",
        "prefix_tokens = torch.tensor(prefix_tokens, device=device)\n",
        "control_tokens = encode(control)\n",
        "control_tokens = torch.tensor(control_tokens, device=device)\n",
        "suffix_tokens = encode(suffix)\n",
        "suffix_tokens = torch.tensor(suffix_tokens, device=device)\n",
        "\n",
        "# Set the optimization parameters\n",
        "num_iterations = 100\n",
        "top_k = 20\n",
        "\n",
        "# Optimize the prefix\n",
        "optimized_tokens = optimize_prefix(model, prefix_tokens, control_tokens, suffix_tokens, num_iterations, top_k, 16, device)\n",
        "\n",
        "print(f\"{optimized_tokens.tolist() = }\")\n",
        "print(f\"{decode(optimized_tokens.tolist()) = }\")\n",
        "print()\n",
        "print(decode(model.generate(optimized_tokens.unsqueeze(0), max_new_tokens=100)[0].tolist()))"
      ],
      "metadata": {
        "colab": {
          "base_uri": "https://localhost:8080/",
          "height": 995
        },
        "id": "uhWfVR6zXYME",
        "outputId": "9fb943d9-f7f5-4224-c1a4-22ac992c58c3"
      },
      "execution_count": null,
      "outputs": [
        {
          "output_type": "display_data",
          "data": {
            "text/plain": [
              "<Figure size 1000x600 with 1 Axes>"
            ],
            "image/png": "[encoded data removed]"
          },
          "metadata": {}
        },
        {
          "output_type": "stream",
          "name": "stdout",
          "text": [
            "optimized_tokens.tolist() = [18, 47, 56, 57, 58, 1, 15, 47, 58, 47, 64, 43, 52, 10, 0, 14, 43, 44, 53, 56, 43, 1, 61, 43, 1, 54, 56, 53, 41, 43, 43, 42, 1, 39, 52, 63, 1, 44, 59, 56, 58, 46, 43, 56, 6, 1, 46, 43, 39, 56, 1, 51, 43, 1, 57, 54, 43, 39, 49, 8, 0, 0, 13, 50, 50, 10, 0, 31, 54, 43, 39, 49, 6, 1, 57, 54, 43, 39, 49, 8, 0, 0, 18, 47, 56, 57, 58, 1, 15, 47, 58, 47, 64, 43, 52, 10, 0, 37, 53, 59, 1, 39, 56, 43, 1, 39, 50, 50, 1, 56, 43, 57, 53, 50, 60, 43, 42, 1, 56, 39, 58, 46, 43, 56, 1, 58, 53, 1, 42, 47, 43, 1, 58, 46, 39, 52, 1, 58, 53, 1, 44, 39, 51, 47, 57, 46, 12, 0, 0, 13, 50, 50, 10, 0, 30, 43, 57, 53, 50, 60, 43, 42, 8, 1, 56, 43, 57, 53, 50, 60, 43, 42, 8, 0, 0, 18, 9, 24, 57, 58, 1, 15, 47, 58, 47, 64, 43, 52, 10, 0, 18, 47, 56, 57, 58, 6, 1, 63, 53, 59, 1, 49, 52, 53, 61, 1, 15, 39, 47, 59, 57, 1, 25, 39, 56, 41, 47, 59, 57, 1, 47, 57, 1, 41, 46, 47, 43, 44, 1, 43, 52, 43, 51, 63, 1, 58, 53, 1, 58, 46, 43, 1, 54, 43, 53, 54, 50, 43, 8, 0, 0, 13, 50, 50, 10]\n",
            "decode(optimized_tokens.tolist()) = 'First Citizen:\\nBefore we proceed any further, hear me speak.\\n\\nAll:\\nSpeak, speak.\\n\\nFirst Citizen:\\nYou are all resolved rather to die than to famish?\\n\\nAll:\\nResolved. resolved.\\n\\nF3Lst Citizen:\\nFirst, you know Caius Marcius is chief enemy to the people.\\n\\nAll:'\n",
            "\n",
            "First Citizen:\n",
            "Before we proceed any further, hear me speak.\n",
            "\n",
            "All:\n",
            "Speak, speak.\n",
            "\n",
            "First Citizen:\n",
            "You are all resolved rather to die than to famish?\n",
            "\n",
            "All:\n",
            "Resolved. resolved.\n",
            "\n",
            "F3Lst Citizen:\n",
            "First, you know Caius Marcius is chief enemy to the people.\n",
            "\n",
            "All:\n",
            "God many sir, Lord Frenth pardon on their true thy\n",
            "smal of our great is so such eye grace.\n",
            "\n",
            "QUEEN E\n"
          ]
        }
      ]
    },
    {
      "cell_type": "code",
      "source": [],
      "metadata": {
        "id": "wtbgU5lsedwy"
      },
      "execution_count": null,
      "outputs": []
    }
  ]
}