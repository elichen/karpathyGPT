{
  "nbformat": 4,
  "nbformat_minor": 0,
  "metadata": {
    "colab": {
      "provenance": [],
      "gpuType": "T4",
      "authorship_tag": "ABX9TyPoHOcnu2cZYBV1g6uwolU+",
      "include_colab_link": true
    },
    "kernelspec": {
      "name": "python3",
      "display_name": "Python 3"
    },
    "language_info": {
      "name": "python"
    },
    "accelerator": "GPU"
  },
  "cells": [
    {
      "cell_type": "markdown",
      "metadata": {
        "id": "view-in-github",
        "colab_type": "text"
      },
      "source": [
        "<a href=\"https://colab.research.google.com/github/elichen/karpathyGPT/blob/main/Adversarial_Attack.ipynb\" target=\"_parent\"><img src=\"https://colab.research.google.com/assets/colab-badge.svg\" alt=\"Open In Colab\"/></a>"
      ]
    },
    {
      "cell_type": "code",
      "source": [
        "import torch\n",
        "import torch.nn as nn\n",
        "import torch.nn.functional as F\n",
        "import torch.optim as optim\n",
        "import os"
      ],
      "metadata": {
        "id": "8PRgK7oJBixw"
      },
      "execution_count": 1,
      "outputs": []
    },
    {
      "cell_type": "code",
      "source": [
        "block_size = 256\n",
        "n_layer = 4\n",
        "n_head = 4\n",
        "n_embed = 256\n",
        "n_ffwd = n_embed * 4\n",
        "dropout = 0.2\n",
        "device = \"cuda\" if torch.cuda.is_available() else \"cpu\""
      ],
      "metadata": {
        "id": "TZRiWoaFBw0u"
      },
      "execution_count": 2,
      "outputs": []
    },
    {
      "cell_type": "code",
      "source": [
        "![[ -f input.txt ]] || wget -q https://raw.githubusercontent.com/karpathy/char-rnn/master/data/tinyshakespeare/input.txt"
      ],
      "metadata": {
        "id": "MfxbYa68fJSs"
      },
      "execution_count": 3,
      "outputs": []
    },
    {
      "cell_type": "code",
      "source": [
        "text = open(\"input.txt\").read()"
      ],
      "metadata": {
        "id": "d1FT3o-lNuWL"
      },
      "execution_count": 4,
      "outputs": []
    },
    {
      "cell_type": "code",
      "source": [
        "chars = sorted(list(set(text)))\n",
        "vocab_size = len(chars)\n",
        "vocab_size, \"\".join(chars)"
      ],
      "metadata": {
        "colab": {
          "base_uri": "https://localhost:8080/"
        },
        "id": "WEP7iuk3N_7n",
        "outputId": "0b1b718f-b41a-485b-f8df-0c5b40446532"
      },
      "execution_count": 5,
      "outputs": [
        {
          "output_type": "execute_result",
          "data": {
            "text/plain": [
              "(65, \"\\n !$&',-.3:;?ABCDEFGHIJKLMNOPQRSTUVWXYZabcdefghijklmnopqrstuvwxyz\")"
            ]
          },
          "metadata": {},
          "execution_count": 5
        }
      ]
    },
    {
      "cell_type": "code",
      "source": [
        "stoi = {ch:i for i,ch in enumerate(chars)}\n",
        "itos = {i:ch for i,ch in enumerate(chars)}\n",
        "encode = lambda s: [stoi[c] for c in s]\n",
        "decode = lambda l: \"\".join([itos[i] for i in l])"
      ],
      "metadata": {
        "id": "UjUQYp9fOcXe"
      },
      "execution_count": 6,
      "outputs": []
    },
    {
      "cell_type": "code",
      "source": [
        "class AttentionHead(nn.Module):\n",
        "    def __init__(self, head_dim):\n",
        "        super().__init__()\n",
        "        self.query = nn.Linear(n_embed, head_dim)\n",
        "        self.key = nn.Linear(n_embed, head_dim)\n",
        "        self.value = nn.Linear(n_embed, head_dim)\n",
        "        self.register_buffer('tril', torch.tril(torch.ones(block_size, block_size)))\n",
        "        self.dropout = nn.Dropout(dropout)\n",
        "\n",
        "    def forward(self, x):\n",
        "        B,T,C = x.shape\n",
        "        k = self.key(x)\n",
        "        q = self.query(x)\n",
        "        v = self.value(x)\n",
        "\n",
        "        wei = q @ q.transpose(-2, -1) * k.shape[1] ** -0.5\n",
        "        wei = wei.masked_fill(self.tril[:T,:T] == 0, float(\"-inf\"))\n",
        "        wei = F.softmax(wei, dim=-1)\n",
        "        wei = self.dropout(wei)\n",
        "        output = wei @ v\n",
        "        return output"
      ],
      "metadata": {
        "id": "lz8W3qIEuKyD"
      },
      "execution_count": 7,
      "outputs": []
    },
    {
      "cell_type": "code",
      "source": [
        "class MultiHeadAttention(nn.Module):\n",
        "    def __init__(self, num_heads, head_dim):\n",
        "        super().__init__()\n",
        "        self.heads = nn.ModuleList([AttentionHead(head_dim) for _ in range(num_heads)])\n",
        "        self.linear = nn.Linear(num_heads * head_dim, n_embed)\n",
        "        self.dropout = nn.Dropout(dropout)\n",
        "\n",
        "    def forward(self, x):\n",
        "        out = torch.cat([head(x) for head in self.heads], dim=-1)\n",
        "        out = self.linear(out)\n",
        "        out = self.dropout(out)\n",
        "        return out"
      ],
      "metadata": {
        "id": "5nF5fpVKAaoW"
      },
      "execution_count": 8,
      "outputs": []
    },
    {
      "cell_type": "code",
      "source": [
        "class FeedForward(nn.Module):\n",
        "    def __init__(self):\n",
        "        super().__init__()\n",
        "        self.net = nn.Sequential(\n",
        "          nn.Linear(n_embed, n_ffwd),\n",
        "          nn.ReLU(),\n",
        "          nn.Linear(n_ffwd, n_embed),\n",
        "          nn.Dropout(dropout)\n",
        "        )\n",
        "\n",
        "    def forward(self, x):\n",
        "        return self.net(x)"
      ],
      "metadata": {
        "id": "aIWrcFjfDUTX"
      },
      "execution_count": 9,
      "outputs": []
    },
    {
      "cell_type": "code",
      "source": [
        "class Block(nn.Module):\n",
        "    def __init__(self, num_heads):\n",
        "        super().__init__()\n",
        "        self.sa_heads = MultiHeadAttention(num_heads, n_embed//num_heads)\n",
        "        self.ffwd = FeedForward()\n",
        "        self.norm1 = nn.LayerNorm(n_embed)\n",
        "        self.norm2 = nn.LayerNorm(n_embed)\n",
        "\n",
        "    def forward(self, x):\n",
        "        x = x + self.sa_heads(self.norm1(x))\n",
        "        x = x + self.ffwd(self.norm2(x))\n",
        "        return x"
      ],
      "metadata": {
        "id": "kFmLS_FAE1UP"
      },
      "execution_count": 10,
      "outputs": []
    },
    {
      "cell_type": "code",
      "source": [
        "class LanguageModel(nn.Module):\n",
        "    def __init__(self):\n",
        "        super().__init__()\n",
        "        self.token_embeddings = nn.Embedding(vocab_size, n_embed)\n",
        "        self.position_embeddings = nn.Embedding(block_size, n_embed)\n",
        "        self.blocks = nn.Sequential(*[Block(n_head) for _ in range(n_layer)])\n",
        "        self.norm = nn.LayerNorm(n_embed)\n",
        "        self.lm_head = nn.Linear(n_embed, vocab_size)\n",
        "\n",
        "    def forward(self, inputs):\n",
        "        B,T = inputs.shape\n",
        "        tok_emb = self.token_embeddings(inputs)\n",
        "        pos_emb = self.position_embeddings(torch.arange(T, device=device))\n",
        "        x = tok_emb + pos_emb\n",
        "        x = self.blocks(x)\n",
        "        x = self.norm(x)\n",
        "        return self.lm_head(x)\n",
        "\n",
        "    def calculate_loss(self, inputs, targets):\n",
        "        logits = self(inputs)\n",
        "        return F.cross_entropy(logits.view(-1, vocab_size), targets.view(-1))\n",
        "\n",
        "    def generate(self, input_batch, max_new_tokens):\n",
        "        for _ in range(max_new_tokens):\n",
        "            logits = self(input_batch[:,-block_size:])\n",
        "            last_logits = logits[:, -1, :]\n",
        "            probabilities = F.softmax(last_logits, dim=-1)\n",
        "            next_tokens = torch.multinomial(probabilities, 1).squeeze(1)\n",
        "            input_batch = torch.cat((input_batch, next_tokens.unsqueeze(1)), dim=1)\n",
        "        return input_batch"
      ],
      "metadata": {
        "id": "1-CZvBchyPSv"
      },
      "execution_count": 11,
      "outputs": []
    },
    {
      "cell_type": "code",
      "source": [
        "weights_file = 'tinyshakespeare.pt'"
      ],
      "metadata": {
        "id": "x6TpVKwvtAm2"
      },
      "execution_count": 12,
      "outputs": []
    },
    {
      "cell_type": "code",
      "source": [
        "![[ -f {weights_file} ]] || wget -O {weights_file} https://github.com/elichen/karpathyGPT/raw/main/{weights_file}"
      ],
      "metadata": {
        "id": "P_R3OHyng6Lv"
      },
      "execution_count": 13,
      "outputs": []
    },
    {
      "cell_type": "code",
      "source": [
        "model = LanguageModel().to(device)\n",
        "print(sum(p.numel() for p in model.parameters())/1e6, 'M parameters')\n",
        "model.load_state_dict(torch.load(weights_file, map_location=torch.device(device)))"
      ],
      "metadata": {
        "colab": {
          "base_uri": "https://localhost:8080/"
        },
        "id": "luY_79oAoiax",
        "outputId": "f516f643-2152-4524-f037-bdf0e67c39a4"
      },
      "execution_count": 14,
      "outputs": [
        {
          "output_type": "stream",
          "name": "stdout",
          "text": [
            "3.258433 M parameters\n"
          ]
        },
        {
          "output_type": "execute_result",
          "data": {
            "text/plain": [
              "<All keys matched successfully>"
            ]
          },
          "metadata": {},
          "execution_count": 14
        }
      ]
    },
    {
      "cell_type": "code",
      "source": [
        "prefix = \"First Citizen:\"\n",
        "context = torch.tensor(encode(prefix), dtype=torch.long).to(device).unsqueeze(0)\n",
        "print(decode(model.generate(context, max_new_tokens=100)[0].tolist()))"
      ],
      "metadata": {
        "colab": {
          "base_uri": "https://localhost:8080/"
        },
        "id": "HPEojOvPlIfD",
        "outputId": "e440bfcc-3bd7-4dcd-f46c-6491e65944e8"
      },
      "execution_count": 15,
      "outputs": [
        {
          "output_type": "stream",
          "name": "stdout",
          "text": [
            "First Citizen:\n",
            "Ay, face's manes, tal woul but a Royal burse being.\n",
            "\n",
            "COMIPEY:\n",
            "But, now him\n",
            "scond; an thou tellivest\n"
          ]
        }
      ]
    },
    {
      "cell_type": "code",
      "source": [
        "def forward_with_tok_emb(model, tok_emb):\n",
        "    B, T, _ = tok_emb.shape  # Adjust to match the dimensions of tok_emb\n",
        "    pos_emb = model.position_embeddings(torch.arange(T, device=tok_emb.device))\n",
        "    x = tok_emb + pos_emb\n",
        "    x = model.blocks(x)\n",
        "    x = model.norm(x)\n",
        "    return model.lm_head(x)"
      ],
      "metadata": {
        "id": "4cw-p_avwd7o"
      },
      "execution_count": 16,
      "outputs": []
    },
    {
      "cell_type": "code",
      "source": [
        "seq_ids = encode(\"XXXXXXXzen\")\n",
        "seq = torch.tensor(seq_ids, device=device)\n",
        "print(seq)\n",
        "suffix_ids = encode(\"zen:\")\n",
        "suffix = torch.tensor(suffix_ids, device=device).unsqueeze(0)\n",
        "\n",
        "embed_weights = model.token_embeddings.weight\n",
        "one_hot = F.one_hot(seq, num_classes=vocab_size).to(device=device, dtype=embed_weights.dtype)\n",
        "one_hot.requires_grad_()\n",
        "input_embeds = (one_hot @ embed_weights).unsqueeze(0)\n",
        "\n",
        "model.eval()\n",
        "logits = forward_with_tok_emb(model, input_embeds)\n",
        "pred_tokens = torch.argmax(logits, dim=-1).squeeze().tolist()\n",
        "print(pred_tokens)\n",
        "\n",
        "print(logits[:, -len(suffix_ids):, :].reshape(-1, vocab_size).shape)\n",
        "print(torch.argmax(logits[:, -len(suffix_ids):, :], dim=-1).squeeze())\n",
        "print(suffix.reshape(-1))\n",
        "loss = F.cross_entropy(logits[:, -len(suffix_ids):, :].reshape(-1, vocab_size), suffix.reshape(-1))\n",
        "print(loss)\n",
        "\n",
        "model.zero_grad()\n",
        "loss.backward()\n",
        "\n",
        "min_res = torch.min(one_hot.grad, dim=1)\n",
        "print(min_res)\n",
        "min_idx = min_res.values.argmin()\n",
        "print(min_idx)\n",
        "min_tok = min_res.indices[min_idx]\n",
        "min_idx, min_tok\n",
        "\n",
        "seq[min_idx] = min_tok\n",
        "one_hot = F.one_hot(seq, num_classes=vocab_size).to(device=device, dtype=embed_weights.dtype)\n",
        "one_hot.requires_grad_()\n",
        "input_embeds = (one_hot @ embed_weights).unsqueeze(0)\n",
        "\n",
        "model.eval()\n",
        "logits = forward_with_tok_emb(model, input_embeds)\n",
        "pred_tokens = torch.argmax(logits, dim=-1).squeeze().tolist()\n",
        "print(decode(pred_tokens))\n",
        "\n",
        "print(logits[:, -len(suffix_ids):, :].reshape(-1, vocab_size).shape)\n",
        "print(torch.argmax(logits[:, -len(suffix_ids):, :], dim=-1).squeeze())\n",
        "print(suffix.reshape(-1))\n",
        "loss = F.cross_entropy(logits[:, -len(suffix_ids):, :].reshape(-1, vocab_size), suffix.reshape(-1))\n",
        "print(loss)\n"
      ],
      "metadata": {
        "id": "od1J1Y11qlxR",
        "colab": {
          "base_uri": "https://localhost:8080/"
        },
        "outputId": "85a9ba43-ae2d-49f0-d697-448690ca175a"
      },
      "execution_count": 78,
      "outputs": [
        {
          "output_type": "stream",
          "name": "stdout",
          "text": [
            "tensor([36, 36, 36, 36, 36, 36, 36, 64, 43, 52], device='cuda:0')\n",
            "[17, 17, 17, 17, 17, 17, 17, 43, 52, 10]\n",
            "torch.Size([4, 65])\n",
            "tensor([17, 43, 52, 10], device='cuda:0')\n",
            "tensor([64, 43, 52, 10], device='cuda:0')\n",
            "tensor(3.7645, device='cuda:0', grad_fn=<NllLossBackward0>)\n",
            "torch.return_types.min(\n",
            "values=tensor([-0.6255, -0.5571, -0.2453, -0.4729, -0.9502, -3.7291, -2.0835, -1.0112,\n",
            "        -0.3403, -0.6935], device='cuda:0'),\n",
            "indices=tensor([53, 54, 39, 39,  0,  0,  7, 47, 21,  1], device='cuda:0'))\n",
            "tensor(5, device='cuda:0')\n",
            "EEEEEKEen:\n",
            "torch.Size([4, 65])\n",
            "tensor([17, 43, 52, 10], device='cuda:0')\n",
            "tensor([64, 43, 52, 10], device='cuda:0')\n",
            "tensor(3.2667, device='cuda:0', grad_fn=<NllLossBackward0>)\n"
          ]
        }
      ]
    },
    {
      "cell_type": "code",
      "source": [],
      "metadata": {
        "id": "FWR8ipdP9-2n"
      },
      "execution_count": 46,
      "outputs": []
    }
  ]
}