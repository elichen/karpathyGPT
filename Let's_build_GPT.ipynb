{
  "nbformat": 4,
  "nbformat_minor": 0,
  "metadata": {
    "colab": {
      "provenance": [],
      "authorship_tag": "ABX9TyMQ7RY9PXPWJgrwUFuyu/Ie",
      "include_colab_link": true
    },
    "kernelspec": {
      "name": "python3",
      "display_name": "Python 3"
    },
    "language_info": {
      "name": "python"
    }
  },
  "cells": [
    {
      "cell_type": "markdown",
      "metadata": {
        "id": "view-in-github",
        "colab_type": "text"
      },
      "source": [
        "<a href=\"https://colab.research.google.com/github/elichen/karpathyGPT/blob/main/Let's_build_GPT.ipynb\" target=\"_parent\"><img src=\"https://colab.research.google.com/assets/colab-badge.svg\" alt=\"Open In Colab\"/></a>"
      ]
    },
    {
      "cell_type": "code",
      "source": [
        "import torch\n",
        "import torch.nn as nn\n",
        "import torch.nn.functional as F\n",
        "import torch.optim as optim"
      ],
      "metadata": {
        "id": "8PRgK7oJBixw"
      },
      "execution_count": 31,
      "outputs": []
    },
    {
      "cell_type": "code",
      "source": [
        "block_size = 8\n",
        "batch_size = 32\n",
        "learning_rate = 1e-3\n",
        "max_inters = 5000\n",
        "eval_iters = 200\n",
        "eval_interval = 500\n",
        "device = \"cuda\" if torch.cuda.is_available() else \"cpu\"\n",
        "n_embed = 32"
      ],
      "metadata": {
        "id": "TZRiWoaFBw0u"
      },
      "execution_count": 32,
      "outputs": []
    },
    {
      "cell_type": "code",
      "execution_count": 33,
      "metadata": {
        "id": "JSOdr5X4MvL6"
      },
      "outputs": [],
      "source": [
        "!wget -q https://raw.githubusercontent.com/karpathy/char-rnn/master/data/tinyshakespeare/input.txt"
      ]
    },
    {
      "cell_type": "code",
      "source": [
        "text = open(\"input.txt\").read()"
      ],
      "metadata": {
        "id": "d1FT3o-lNuWL"
      },
      "execution_count": 34,
      "outputs": []
    },
    {
      "cell_type": "code",
      "source": [
        "chars = sorted(list(set(text)))\n",
        "vocab_size = len(chars)\n",
        "vocab_size, \"\".join(chars)"
      ],
      "metadata": {
        "colab": {
          "base_uri": "https://localhost:8080/"
        },
        "id": "WEP7iuk3N_7n",
        "outputId": "6131be25-8e53-4a42-d713-327efdc64aec"
      },
      "execution_count": 35,
      "outputs": [
        {
          "output_type": "execute_result",
          "data": {
            "text/plain": [
              "(65, \"\\n !$&',-.3:;?ABCDEFGHIJKLMNOPQRSTUVWXYZabcdefghijklmnopqrstuvwxyz\")"
            ]
          },
          "metadata": {},
          "execution_count": 35
        }
      ]
    },
    {
      "cell_type": "code",
      "source": [
        "stoi = {ch:i for i,ch in enumerate(chars)}\n",
        "itos = {i:ch for i,ch in enumerate(chars)}\n",
        "encode = lambda s: [stoi[c] for c in s]\n",
        "decode = lambda l: \"\".join([itos[i] for i in l])"
      ],
      "metadata": {
        "id": "UjUQYp9fOcXe"
      },
      "execution_count": 36,
      "outputs": []
    },
    {
      "cell_type": "code",
      "source": [
        "data = torch.tensor(encode(text))\n",
        "n = int(0.9*len(data))\n",
        "train_data = data[:n]\n",
        "val_data = data[n:]"
      ],
      "metadata": {
        "id": "WMZk8iYWQjVq"
      },
      "execution_count": 37,
      "outputs": []
    },
    {
      "cell_type": "code",
      "source": [
        "def get_batch(split):\n",
        "  data = train_data if split == 'train' else val_data\n",
        "  ix = torch.randint(len(data) - block_size, (batch_size,))\n",
        "  x = torch.stack([data[i:i+block_size] for i in ix])\n",
        "  y = torch.stack([data[i+1:i+block_size+1] for i in ix])\n",
        "  return x.to(device), y.to(device)"
      ],
      "metadata": {
        "id": "qhuCdLFwQ2dn"
      },
      "execution_count": 38,
      "outputs": []
    },
    {
      "cell_type": "code",
      "source": [
        "class AttentionHead(nn.Module):\n",
        "    def __init__(self, head_dim):\n",
        "        super().__init__()\n",
        "        self.query = nn.Linear(n_embed, head_dim)\n",
        "        self.key = nn.Linear(n_embed, head_dim)\n",
        "        self.value = nn.Linear(n_embed, head_dim)\n",
        "        self.register_buffer('tril', torch.tril(torch.ones(block_size, block_size)))\n",
        "\n",
        "    def forward(self, x):\n",
        "        B,T,C = x.shape\n",
        "        k = self.key(x)\n",
        "        q = self.query(x)\n",
        "        v = self.value(x)\n",
        "\n",
        "        wei = q @ q.transpose(-2, -1) * k.shape[1] ** -0.5\n",
        "        wei = wei.masked_fill(self.tril[:T,:T] == 0, float(\"-inf\"))\n",
        "        wei = F.softmax(wei, dim=-1)\n",
        "        output = wei @ v\n",
        "        return output"
      ],
      "metadata": {
        "id": "lz8W3qIEuKyD"
      },
      "execution_count": 39,
      "outputs": []
    },
    {
      "cell_type": "code",
      "source": [
        "class LanguageModel(nn.Module):\n",
        "    def __init__(self):\n",
        "        super().__init__()\n",
        "        self.token_embeddings = nn.Embedding(vocab_size, n_embed)\n",
        "        self.position_embeddings = nn.Embedding(vocab_size, n_embed)\n",
        "        self.sa_head = AttentionHead(n_embed)\n",
        "        self.lm_head = nn.Linear(n_embed, vocab_size)\n",
        "\n",
        "    def forward(self, inputs):\n",
        "        B,T = inputs.shape\n",
        "        tok_emb = self.token_embeddings(inputs)\n",
        "        pos_emb = self.position_embeddings(torch.arange(T, device=device))\n",
        "        x = tok_emb + pos_emb\n",
        "        x = self.sa_head(x)\n",
        "        logits = self.lm_head(x)\n",
        "        return logits\n",
        "\n",
        "    def calculate_loss(self, inputs, targets):\n",
        "        logits = self(inputs)\n",
        "        return F.cross_entropy(logits.view(-1, vocab_size), targets.view(-1))\n",
        "\n",
        "    def generate(self, input_batch, max_new_tokens):\n",
        "        generated = input_batch\n",
        "        for _ in range(max_new_tokens):\n",
        "            logits = self(generated[:,-block_size:])\n",
        "            last_logits = logits[:, -1, :]\n",
        "            probabilities = F.softmax(last_logits, dim=-1)\n",
        "            next_tokens = torch.multinomial(probabilities, 1).squeeze(1)\n",
        "            generated = torch.cat((generated, next_tokens.unsqueeze(1)), dim=1)\n",
        "        return generated"
      ],
      "metadata": {
        "id": "1-CZvBchyPSv"
      },
      "execution_count": 40,
      "outputs": []
    },
    {
      "cell_type": "code",
      "source": [
        "@torch.no_grad()\n",
        "def estimate_loss(model):\n",
        "  out = {}\n",
        "  model.eval()\n",
        "  for split in [\"train\", \"val\"]:\n",
        "    losses = torch.zeros(eval_iters)\n",
        "    for k in range(eval_iters):\n",
        "      X, Y = get_batch(split)\n",
        "      loss = model.calculate_loss(X, Y)\n",
        "      losses[k] = loss.item()\n",
        "    out[split] = losses.mean()\n",
        "  model.train()\n",
        "  return out"
      ],
      "metadata": {
        "id": "d8iOfa47H57j"
      },
      "execution_count": 41,
      "outputs": []
    },
    {
      "cell_type": "code",
      "source": [
        "model = LanguageModel().to(device)\n",
        "xb,yb = get_batch(\"train\")\n",
        "optimizer = optim.AdamW(model.parameters(), lr=learning_rate)\n",
        "\n",
        "for steps in range(max_inters):\n",
        "  if steps % eval_interval == 0:\n",
        "    losses = estimate_loss(model)\n",
        "    print(f\"step {steps}: train loss {losses['train']:.4f}, val loss {losses['val']:.4f}\")\n",
        "\n",
        "  xb,yb = get_batch(\"train\")\n",
        "  loss = model.calculate_loss(xb,yb)\n",
        "  optimizer.zero_grad()\n",
        "  loss.backward()\n",
        "  optimizer.step()\n",
        "print(loss.item())"
      ],
      "metadata": {
        "colab": {
          "base_uri": "https://localhost:8080/"
        },
        "id": "luY_79oAoiax",
        "outputId": "1a22c8db-164b-4be7-f7f1-de7e1a0e7518"
      },
      "execution_count": 42,
      "outputs": [
        {
          "output_type": "stream",
          "name": "stdout",
          "text": [
            "step 0: train loss 4.2023, val loss 4.2080\n",
            "step 500: train loss 2.6248, val loss 2.6493\n",
            "step 1000: train loss 2.5200, val loss 2.5224\n",
            "step 1500: train loss 2.4869, val loss 2.4861\n",
            "step 2000: train loss 2.4535, val loss 2.4640\n",
            "step 2500: train loss 2.4363, val loss 2.4460\n",
            "step 3000: train loss 2.4385, val loss 2.4511\n",
            "step 3500: train loss 2.4331, val loss 2.4402\n",
            "step 4000: train loss 2.4211, val loss 2.4332\n",
            "step 4500: train loss 2.4219, val loss 2.4339\n",
            "2.295100212097168\n"
          ]
        }
      ]
    },
    {
      "cell_type": "code",
      "source": [
        "context = torch.zeros((1,1), dtype=torch.long, device=device)\n",
        "print(decode(model.generate(context, max_new_tokens=400)[0].tolist()))"
      ],
      "metadata": {
        "colab": {
          "base_uri": "https://localhost:8080/"
        },
        "id": "Balv1PyMp-di",
        "outputId": "e39cb1ba-0a18-478c-a5e3-72970cbe0ebd"
      },
      "execution_count": 43,
      "outputs": [
        {
          "output_type": "stream",
          "name": "stdout",
          "text": [
            "\n",
            "K:\n",
            "PHand ofacer ly ANGs ald I ivet qulave dr, tod wal plo:\n",
            "O:\n",
            "LLUR:\n",
            "LANI mee.\n",
            "PUME lo ans mermp fe manor s.\n",
            "\n",
            "Wh I we nf 's.\n",
            "\n",
            "ATAs, ontet, ng ham brury dou harep hint at VI res An che gady sthevive Pithat fours wan llo gpr sto wsonthere bbouen\n",
            "th I y tear we dther:\n",
            "CUKI amyofouf Glesepeet byours wif ave.\n",
            "OOMUThe es?\n",
            "\n",
            "Tuell\n",
            "BREDELhond foe orud ta ty nfomears ing?\n",
            "\n",
            "Whe cer wie glen che.\n",
            "The sonass di\n"
          ]
        }
      ]
    }
  ]
}