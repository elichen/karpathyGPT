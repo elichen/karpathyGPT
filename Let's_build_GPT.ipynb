{
  "nbformat": 4,
  "nbformat_minor": 0,
  "metadata": {
    "colab": {
      "provenance": [],
      "authorship_tag": "ABX9TyNoi+pR68zUuraXtgwsMACB",
      "include_colab_link": true
    },
    "kernelspec": {
      "name": "python3",
      "display_name": "Python 3"
    },
    "language_info": {
      "name": "python"
    }
  },
  "cells": [
    {
      "cell_type": "markdown",
      "metadata": {
        "id": "view-in-github",
        "colab_type": "text"
      },
      "source": [
        "<a href=\"https://colab.research.google.com/github/elichen/karpathyGPT/blob/main/Let's_build_GPT.ipynb\" target=\"_parent\"><img src=\"https://colab.research.google.com/assets/colab-badge.svg\" alt=\"Open In Colab\"/></a>"
      ]
    },
    {
      "cell_type": "code",
      "execution_count": 12,
      "metadata": {
        "id": "JSOdr5X4MvL6"
      },
      "outputs": [],
      "source": [
        "!wget -q https://raw.githubusercontent.com/karpathy/char-rnn/master/data/tinyshakespeare/input.txt"
      ]
    },
    {
      "cell_type": "code",
      "source": [
        "text = open(\"input.txt\").read()"
      ],
      "metadata": {
        "id": "d1FT3o-lNuWL"
      },
      "execution_count": 13,
      "outputs": []
    },
    {
      "cell_type": "code",
      "source": [
        "chars = sorted(list(set(text)))\n",
        "vocab_size = len(chars)\n",
        "vocab_size, \"\".join(chars)"
      ],
      "metadata": {
        "colab": {
          "base_uri": "https://localhost:8080/"
        },
        "id": "WEP7iuk3N_7n",
        "outputId": "9ea36f98-67ac-48e1-8efc-ce2de70f5a27"
      },
      "execution_count": 14,
      "outputs": [
        {
          "output_type": "execute_result",
          "data": {
            "text/plain": [
              "(65, \"\\n !$&',-.3:;?ABCDEFGHIJKLMNOPQRSTUVWXYZabcdefghijklmnopqrstuvwxyz\")"
            ]
          },
          "metadata": {},
          "execution_count": 14
        }
      ]
    },
    {
      "cell_type": "code",
      "source": [
        "stoi = {ch:i for i,ch in enumerate(chars)}\n",
        "itos = {i:ch for i,ch in enumerate(chars)}\n",
        "encode = lambda s: [stoi[c] for c in s]\n",
        "decode = lambda l: \"\".join([itos[i] for i in l])"
      ],
      "metadata": {
        "id": "UjUQYp9fOcXe"
      },
      "execution_count": 15,
      "outputs": []
    },
    {
      "cell_type": "code",
      "source": [
        "import torch\n",
        "data = torch.tensor(encode(text))"
      ],
      "metadata": {
        "id": "6Dzl1RxaProm"
      },
      "execution_count": 16,
      "outputs": []
    },
    {
      "cell_type": "code",
      "source": [
        "n = int(0.9*len(data))\n",
        "train_data = data[:n]\n",
        "val_data = data[n:]"
      ],
      "metadata": {
        "id": "WMZk8iYWQjVq"
      },
      "execution_count": 17,
      "outputs": []
    },
    {
      "cell_type": "code",
      "source": [
        "block_size = 8\n",
        "batch_size = 4\n",
        "\n",
        "def get_batch(split):\n",
        "  data = train_data if split == 'train' else val_data\n",
        "  ix = torch.randint(len(data) - block_size, (batch_size,))\n",
        "  x = torch.stack([data[i:i+block_size] for i in ix])\n",
        "  y = torch.stack([data[i+1:i+block_size+1] for i in ix])\n",
        "  return x, y"
      ],
      "metadata": {
        "id": "qhuCdLFwQ2dn"
      },
      "execution_count": 18,
      "outputs": []
    },
    {
      "cell_type": "code",
      "source": [
        "import torch\n",
        "import torch.nn as nn\n",
        "import torch.nn.functional as F\n",
        "\n",
        "class BigramModel(nn.Module):\n",
        "    def __init__(self, vocab_size):\n",
        "        super().__init__()\n",
        "        self.embeddings = nn.Embedding(vocab_size, vocab_size)\n",
        "\n",
        "    def forward(self, inputs):\n",
        "        embeds = self.embeddings(inputs)\n",
        "        return embeds\n",
        "\n",
        "    def calculate_loss(self, inputs, targets):\n",
        "        logits = self(inputs)\n",
        "        return F.cross_entropy(logits.view(-1, vocab_size), targets.view(-1))\n",
        "\n",
        "    def generate(self, input_batch, max_new_tokens):\n",
        "        generated = input_batch\n",
        "        for _ in range(max_new_tokens):\n",
        "            logits = self(generated)\n",
        "            last_logits = logits[:, -1, :]\n",
        "            probabilities = F.softmax(last_logits, dim=-1)\n",
        "            next_tokens = torch.multinomial(probabilities, 1).squeeze(1)\n",
        "            generated = torch.cat((generated, next_tokens.unsqueeze(1)), dim=1)\n",
        "        return generated\n",
        "\n",
        "model = BigramModel(vocab_size)\n",
        "\n",
        "xb,yb = get_batch(\"train\")\n",
        "print(model(xb).shape)\n",
        "out = model.calculate_loss(xb,yb)\n",
        "out"
      ],
      "metadata": {
        "colab": {
          "base_uri": "https://localhost:8080/"
        },
        "id": "1-CZvBchyPSv",
        "outputId": "6c7fa301-84a3-49d3-ccf8-ebc9a2686dbf"
      },
      "execution_count": 19,
      "outputs": [
        {
          "output_type": "stream",
          "name": "stdout",
          "text": [
            "torch.Size([4, 8, 65])\n"
          ]
        },
        {
          "output_type": "execute_result",
          "data": {
            "text/plain": [
              "tensor(4.3897, grad_fn=<NllLossBackward0>)"
            ]
          },
          "metadata": {},
          "execution_count": 19
        }
      ]
    },
    {
      "cell_type": "code",
      "source": [
        "x = torch.zeros((1,1), dtype=torch.long)\n",
        "decode(model.generate(x, max_new_tokens=100)[0].tolist())"
      ],
      "metadata": {
        "colab": {
          "base_uri": "https://localhost:8080/",
          "height": 35
        },
        "id": "fvfD4pvC-L2y",
        "outputId": "21ed2803-fde0-4a37-ce86-51148892d4ad"
      },
      "execution_count": 25,
      "outputs": [
        {
          "output_type": "execute_result",
          "data": {
            "text/plain": [
              "\"\\nDx;l!DI:a,Zrd\\n u$HEGS;bIt'VxVixxNgIp?ix ZzOSUEVJ&$3IX.: eL,sO;luteI-gRu:FNwv.F.O-?Bb?SpYtEm!CFPQFK.x\""
            ],
            "application/vnd.google.colaboratory.intrinsic+json": {
              "type": "string"
            }
          },
          "metadata": {},
          "execution_count": 25
        }
      ]
    }
  ]
}