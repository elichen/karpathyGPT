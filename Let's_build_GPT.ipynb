{
  "nbformat": 4,
  "nbformat_minor": 0,
  "metadata": {
    "colab": {
      "provenance": [],
      "authorship_tag": "ABX9TyPzrBdyQi+lp2kEuZLWV5jG",
      "include_colab_link": true
    },
    "kernelspec": {
      "name": "python3",
      "display_name": "Python 3"
    },
    "language_info": {
      "name": "python"
    }
  },
  "cells": [
    {
      "cell_type": "markdown",
      "metadata": {
        "id": "view-in-github",
        "colab_type": "text"
      },
      "source": [
        "<a href=\"https://colab.research.google.com/github/elichen/karpathyGPT/blob/main/Let's_build_GPT.ipynb\" target=\"_parent\"><img src=\"https://colab.research.google.com/assets/colab-badge.svg\" alt=\"Open In Colab\"/></a>"
      ]
    },
    {
      "cell_type": "code",
      "source": [
        "import torch\n",
        "import torch.nn as nn\n",
        "import torch.nn.functional as F\n",
        "import torch.optim as optim"
      ],
      "metadata": {
        "id": "8PRgK7oJBixw"
      },
      "execution_count": 1,
      "outputs": []
    },
    {
      "cell_type": "code",
      "source": [
        "block_size = 8\n",
        "batch_size = 32\n",
        "learning_rate = 2e-3\n",
        "max_inters = 3000\n",
        "eval_iters = 200\n",
        "eval_interval = 300\n",
        "device = \"cuda\" if torch.cuda.is_available() else \"cpu\""
      ],
      "metadata": {
        "id": "TZRiWoaFBw0u"
      },
      "execution_count": 2,
      "outputs": []
    },
    {
      "cell_type": "code",
      "execution_count": 3,
      "metadata": {
        "id": "JSOdr5X4MvL6"
      },
      "outputs": [],
      "source": [
        "!wget -q https://raw.githubusercontent.com/karpathy/char-rnn/master/data/tinyshakespeare/input.txt"
      ]
    },
    {
      "cell_type": "code",
      "source": [
        "text = open(\"input.txt\").read()"
      ],
      "metadata": {
        "id": "d1FT3o-lNuWL"
      },
      "execution_count": 4,
      "outputs": []
    },
    {
      "cell_type": "code",
      "source": [
        "chars = sorted(list(set(text)))\n",
        "vocab_size = len(chars)\n",
        "vocab_size, \"\".join(chars)"
      ],
      "metadata": {
        "colab": {
          "base_uri": "https://localhost:8080/"
        },
        "id": "WEP7iuk3N_7n",
        "outputId": "b56aa8f3-7ea1-4486-d0cf-c441820b25bd"
      },
      "execution_count": 5,
      "outputs": [
        {
          "output_type": "execute_result",
          "data": {
            "text/plain": [
              "(65, \"\\n !$&',-.3:;?ABCDEFGHIJKLMNOPQRSTUVWXYZabcdefghijklmnopqrstuvwxyz\")"
            ]
          },
          "metadata": {},
          "execution_count": 5
        }
      ]
    },
    {
      "cell_type": "code",
      "source": [
        "stoi = {ch:i for i,ch in enumerate(chars)}\n",
        "itos = {i:ch for i,ch in enumerate(chars)}\n",
        "encode = lambda s: [stoi[c] for c in s]\n",
        "decode = lambda l: \"\".join([itos[i] for i in l])"
      ],
      "metadata": {
        "id": "UjUQYp9fOcXe"
      },
      "execution_count": 6,
      "outputs": []
    },
    {
      "cell_type": "code",
      "source": [
        "data = torch.tensor(encode(text))\n",
        "n = int(0.9*len(data))\n",
        "train_data = data[:n]\n",
        "val_data = data[n:]"
      ],
      "metadata": {
        "id": "WMZk8iYWQjVq"
      },
      "execution_count": 7,
      "outputs": []
    },
    {
      "cell_type": "code",
      "source": [
        "def get_batch(split):\n",
        "  data = train_data if split == 'train' else val_data\n",
        "  ix = torch.randint(len(data) - block_size, (batch_size,))\n",
        "  x = torch.stack([data[i:i+block_size] for i in ix])\n",
        "  y = torch.stack([data[i+1:i+block_size+1] for i in ix])\n",
        "  return x.to(device), y.to(device)"
      ],
      "metadata": {
        "id": "qhuCdLFwQ2dn"
      },
      "execution_count": 8,
      "outputs": []
    },
    {
      "cell_type": "code",
      "source": [
        "class BigramModel(nn.Module):\n",
        "    def __init__(self, vocab_size):\n",
        "        super().__init__()\n",
        "        self.embeddings = nn.Embedding(vocab_size, vocab_size)\n",
        "\n",
        "    def forward(self, inputs):\n",
        "        embeds = self.embeddings(inputs)\n",
        "        return embeds\n",
        "\n",
        "    def calculate_loss(self, inputs, targets):\n",
        "        logits = self(inputs)\n",
        "        return F.cross_entropy(logits.view(-1, vocab_size), targets.view(-1))\n",
        "\n",
        "    def generate(self, input_batch, max_new_tokens):\n",
        "        generated = input_batch\n",
        "        for _ in range(max_new_tokens):\n",
        "            logits = self(generated)\n",
        "            last_logits = logits[:, -1, :]\n",
        "            probabilities = F.softmax(last_logits, dim=-1)\n",
        "            next_tokens = torch.multinomial(probabilities, 1).squeeze(1)\n",
        "            generated = torch.cat((generated, next_tokens.unsqueeze(1)), dim=1)\n",
        "        return generated"
      ],
      "metadata": {
        "id": "1-CZvBchyPSv"
      },
      "execution_count": 9,
      "outputs": []
    },
    {
      "cell_type": "code",
      "source": [
        "@torch.no_grad()\n",
        "def estimate_loss(model):\n",
        "  out = {}\n",
        "  model.eval()\n",
        "  for split in [\"train\", \"val\"]:\n",
        "    losses = torch.zeros(eval_iters)\n",
        "    for k in range(eval_iters):\n",
        "      X, Y = get_batch(split)\n",
        "      loss = model.calculate_loss(X, Y)\n",
        "      losses[k] = loss.item()\n",
        "    out[split] = losses.mean()\n",
        "  model.train()\n",
        "  return out"
      ],
      "metadata": {
        "id": "d8iOfa47H57j"
      },
      "execution_count": 10,
      "outputs": []
    },
    {
      "cell_type": "code",
      "source": [
        "model = BigramModel(vocab_size).to(device)\n",
        "xb,yb = get_batch(\"train\")\n",
        "optimizer = optim.AdamW(model.parameters(), lr=learning_rate)\n",
        "\n",
        "for steps in range(max_inters):\n",
        "  if steps % eval_interval == 0:\n",
        "    losses = estimate_loss(model)\n",
        "    print(f\"step {steps}: train loss {losses['train']:.4f}, val loss {losses['val']:.4f}\")\n",
        "\n",
        "  xb,yb = get_batch(\"train\")\n",
        "  loss = model.calculate_loss(xb,yb)\n",
        "  optimizer.zero_grad()\n",
        "  loss.backward()\n",
        "  optimizer.step()\n",
        "print(loss.item())"
      ],
      "metadata": {
        "colab": {
          "base_uri": "https://localhost:8080/"
        },
        "id": "luY_79oAoiax",
        "outputId": "33f06b7d-98b7-4a63-dde2-8f6061c08945"
      },
      "execution_count": 11,
      "outputs": [
        {
          "output_type": "stream",
          "name": "stdout",
          "text": [
            "step 0: train loss 4.5277, val loss 4.5246\n",
            "step 300: train loss 3.9060, val loss 3.9156\n",
            "step 600: train loss 3.4309, val loss 3.4460\n",
            "step 900: train loss 3.1126, val loss 3.1297\n",
            "step 1200: train loss 2.9040, val loss 2.9187\n",
            "step 1500: train loss 2.7650, val loss 2.7857\n",
            "step 1800: train loss 2.6843, val loss 2.6860\n",
            "step 2100: train loss 2.6176, val loss 2.6341\n",
            "step 2400: train loss 2.5780, val loss 2.5951\n",
            "step 2700: train loss 2.5564, val loss 2.5694\n",
            "2.641012668609619\n"
          ]
        }
      ]
    },
    {
      "cell_type": "code",
      "source": [
        "context = torch.zeros((1,1), dtype=torch.long, device=device)\n",
        "print(decode(model.generate(context, max_new_tokens=400)[0].tolist()))"
      ],
      "metadata": {
        "colab": {
          "base_uri": "https://localhost:8080/"
        },
        "id": "Balv1PyMp-di",
        "outputId": "3f5237a8-4609-4661-c7eb-ec786bc6e69a"
      },
      "execution_count": 12,
      "outputs": [
        {
          "output_type": "stream",
          "name": "stdout",
          "text": [
            "\n",
            "Rirosengeanerved, ncve!\n",
            "Paceacks.\n",
            "Hachot BR:\n",
            "KandwthinfZjad t, t fo, licks ved\n",
            "\n",
            "R:V: t QmerthisitXPrud nghJp:\n",
            "T:avilo f fl arard;\n",
            "\n",
            "TNOfCor t ut Onoboullanet hthXtok y, wXEN h,\n",
            "Thate qKNCiomillXmusecoQ'd-war I he\n",
            "O,\n",
            "A:\n",
            "\n",
            "Thy thespalealeto menont.RO,\n",
            "ithind s mThe: hPlR:JHeplPLefongucais ar wlagnou.\n",
            "\n",
            "s ndmy ft lW:NowalldgrcouWTat tonERDFOREd mesery-d h arsobepreXEnck himGrte wit feePa ty d es I IN:qk\n"
          ]
        }
      ]
    },
    {
      "cell_type": "code",
      "source": [
        "B,T,C = 4,8,2\n",
        "x = torch.randn(B,T,C)\n",
        "x.shape"
      ],
      "metadata": {
        "colab": {
          "base_uri": "https://localhost:8080/"
        },
        "id": "OJCvLPFC8rr2",
        "outputId": "d8937dd5-2623-4fa3-980f-48e26d3b0deb"
      },
      "execution_count": 15,
      "outputs": [
        {
          "output_type": "execute_result",
          "data": {
            "text/plain": [
              "torch.Size([4, 8, 2])"
            ]
          },
          "metadata": {},
          "execution_count": 15
        }
      ]
    },
    {
      "cell_type": "code",
      "source": [
        "xbow = torch.zeros((B,T,C))\n",
        "for b in range(B):\n",
        "  for t in range(T):\n",
        "    xprev = x[b,:t+1]\n",
        "    xbow[b,t] = torch.mean(xprev, 0)\n",
        "xbow.shape"
      ],
      "metadata": {
        "colab": {
          "base_uri": "https://localhost:8080/"
        },
        "id": "IUbLUzuV9ZjK",
        "outputId": "b4b6442b-1602-4b6f-ac89-a13fff0c2fe7"
      },
      "execution_count": 42,
      "outputs": [
        {
          "output_type": "execute_result",
          "data": {
            "text/plain": [
              "torch.Size([4, 8, 2])"
            ]
          },
          "metadata": {},
          "execution_count": 42
        }
      ]
    },
    {
      "cell_type": "code",
      "source": [
        "wei = torch.tril(torch.ones(T, T))\n",
        "wei = wei / wei.sum(1, keepdim=True)\n",
        "xbow2 = wei @ x\n",
        "torch.allclose(xbow, xbow2)"
      ],
      "metadata": {
        "colab": {
          "base_uri": "https://localhost:8080/"
        },
        "id": "9YBOwnPHAgW-",
        "outputId": "931d0904-dbd5-4959-e31a-e91fdef21ed4"
      },
      "execution_count": 43,
      "outputs": [
        {
          "output_type": "execute_result",
          "data": {
            "text/plain": [
              "True"
            ]
          },
          "metadata": {},
          "execution_count": 43
        }
      ]
    },
    {
      "cell_type": "code",
      "source": [
        "tril = torch.tril(torch.ones(T,T))\n",
        "wei = torch.zeros((T,T))\n",
        "wei = wei.masked_fill(tril == 0, float('-inf'))\n",
        "wei = F.softmax(wei, dim=-1)\n",
        "xbow3 = wei @ x\n",
        "torch.allclose(xbow, xbow3)"
      ],
      "metadata": {
        "colab": {
          "base_uri": "https://localhost:8080/"
        },
        "id": "81NZ5VlwCnMK",
        "outputId": "72da763e-6304-40e0-d64b-9ca1c616a24d"
      },
      "execution_count": 50,
      "outputs": [
        {
          "output_type": "execute_result",
          "data": {
            "text/plain": [
              "True"
            ]
          },
          "metadata": {},
          "execution_count": 50
        }
      ]
    },
    {
      "cell_type": "code",
      "source": [
        "xbow[0], xbow2[0]"
      ],
      "metadata": {
        "colab": {
          "base_uri": "https://localhost:8080/"
        },
        "id": "N-CatNjN-COk",
        "outputId": "88668474-d495-48cd-9d5b-5a5085f805e3"
      },
      "execution_count": 44,
      "outputs": [
        {
          "output_type": "execute_result",
          "data": {
            "text/plain": [
              "(tensor([[ 0.0048, -1.8912],\n",
              "         [-0.5169, -1.0678],\n",
              "         [ 0.1308, -0.8717],\n",
              "         [ 0.0418, -0.7062],\n",
              "         [ 0.2783, -0.4006],\n",
              "         [ 0.4349, -0.2755],\n",
              "         [ 0.1695, -0.3922],\n",
              "         [ 0.1996, -0.2580]]),\n",
              " tensor([[ 0.0048, -1.8912],\n",
              "         [-0.5169, -1.0678],\n",
              "         [ 0.1308, -0.8717],\n",
              "         [ 0.0418, -0.7062],\n",
              "         [ 0.2783, -0.4006],\n",
              "         [ 0.4349, -0.2755],\n",
              "         [ 0.1695, -0.3922],\n",
              "         [ 0.1996, -0.2580]]))"
            ]
          },
          "metadata": {},
          "execution_count": 44
        }
      ]
    },
    {
      "cell_type": "code",
      "source": [
        "a = torch.tril(torch.ones(3,3))\n",
        "a = a / torch.sum(a, 1, keepdim=True)\n",
        "b = torch.randint(0,10,(3,2)).float()\n",
        "c = a @ b\n",
        "a, b, c"
      ],
      "metadata": {
        "colab": {
          "base_uri": "https://localhost:8080/"
        },
        "id": "LEnksGqq-zNn",
        "outputId": "ab6361e3-8225-4f05-942c-42dd6ca35d4d"
      },
      "execution_count": 38,
      "outputs": [
        {
          "output_type": "execute_result",
          "data": {
            "text/plain": [
              "(tensor([[1.0000, 0.0000, 0.0000],\n",
              "         [0.5000, 0.5000, 0.0000],\n",
              "         [0.3333, 0.3333, 0.3333]]),\n",
              " tensor([[0., 7.],\n",
              "         [2., 7.],\n",
              "         [5., 5.]]),\n",
              " tensor([[0.0000, 7.0000],\n",
              "         [1.0000, 7.0000],\n",
              "         [2.3333, 6.3333]]))"
            ]
          },
          "metadata": {},
          "execution_count": 38
        }
      ]
    },
    {
      "cell_type": "code",
      "source": [],
      "metadata": {
        "colab": {
          "base_uri": "https://localhost:8080/"
        },
        "id": "N_tV5YRC_-sI",
        "outputId": "a00f16a8-6750-4047-e777-6172c3301da2"
      },
      "execution_count": 37,
      "outputs": [
        {
          "output_type": "execute_result",
          "data": {
            "text/plain": [
              "tensor([[1.],\n",
              "        [2.],\n",
              "        [3.]])"
            ]
          },
          "metadata": {},
          "execution_count": 37
        }
      ]
    }
  ]
}